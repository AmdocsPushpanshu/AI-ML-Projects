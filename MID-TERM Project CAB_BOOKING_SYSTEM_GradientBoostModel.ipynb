{
  "nbformat": 4,
  "nbformat_minor": 0,
  "metadata": {
    "kernelspec": {
      "display_name": "Python 3",
      "language": "python",
      "name": "python3"
    },
    "language_info": {
      "codemirror_mode": {
        "name": "ipython",
        "version": 3
      },
      "file_extension": ".py",
      "mimetype": "text/x-python",
      "name": "python",
      "nbconvert_exporter": "python",
      "pygments_lexer": "ipython3",
      "version": "3.8.3"
    },
    "colab": {
      "name": "mid term project.ipynb",
      "provenance": [],
      "collapsed_sections": [],
      "machine_shape": "hm"
    },
    "accelerator": "GPU"
  },
  "cells": [
    {
      "cell_type": "code",
      "metadata": {
        "colab": {
          "base_uri": "https://localhost:8080/"
        },
        "id": "qPUG0rk48U6b",
        "outputId": "29c18bf0-feca-4187-b248-46ac7a793e88"
      },
      "source": [
        "gpu_info = !nvidia-smi\n",
        "gpu_info = '\\n'.join(gpu_info)\n",
        "if gpu_info.find('failed') >= 0:\n",
        "  print('Select the Runtime > \"Change runtime type\" menu to enable a GPU accelerator, ')\n",
        "  print('and then re-execute this cell.')\n",
        "else:\n",
        "  print(gpu_info)"
      ],
      "execution_count": 1,
      "outputs": [
        {
          "output_type": "stream",
          "text": [
            "Sat Apr  3 08:48:04 2021       \n",
            "+-----------------------------------------------------------------------------+\n",
            "| NVIDIA-SMI 460.67       Driver Version: 460.32.03    CUDA Version: 11.2     |\n",
            "|-------------------------------+----------------------+----------------------+\n",
            "| GPU  Name        Persistence-M| Bus-Id        Disp.A | Volatile Uncorr. ECC |\n",
            "| Fan  Temp  Perf  Pwr:Usage/Cap|         Memory-Usage | GPU-Util  Compute M. |\n",
            "|                               |                      |               MIG M. |\n",
            "|===============================+======================+======================|\n",
            "|   0  Tesla V100-SXM2...  Off  | 00000000:00:04.0 Off |                    0 |\n",
            "| N/A   33C    P0    23W / 300W |      0MiB / 16160MiB |      0%      Default |\n",
            "|                               |                      |                  N/A |\n",
            "+-------------------------------+----------------------+----------------------+\n",
            "                                                                               \n",
            "+-----------------------------------------------------------------------------+\n",
            "| Processes:                                                                  |\n",
            "|  GPU   GI   CI        PID   Type   Process name                  GPU Memory |\n",
            "|        ID   ID                                                   Usage      |\n",
            "|=============================================================================|\n",
            "|  No running processes found                                                 |\n",
            "+-----------------------------------------------------------------------------+\n"
          ],
          "name": "stdout"
        }
      ]
    },
    {
      "cell_type": "markdown",
      "metadata": {
        "id": "cSlBjiMTtUmj"
      },
      "source": [
        "# Read Train and test Data\n",
        "Read all 4 input csv. Concatenation with Total_booking is done later after data preprocessing and splitting the datetime column into year,month,day and hour"
      ]
    },
    {
      "cell_type": "code",
      "metadata": {
        "id": "KdD4_AKgtUmt"
      },
      "source": [
        "import pandas as pd\n",
        "import numpy as np\n",
        "\n",
        "# Prepare Training Dataframe\n",
        "df_train_main = pd.read_csv('train.csv')\n",
        "df_train_label = pd.read_csv('train_label.csv', names = ['Total_booking'])\n",
        "\n",
        "# Prepare Test Dataframe\n",
        "df_test_main = pd.read_csv('test.csv')\n",
        "df_test_label = pd.read_csv('test_label.csv', names = ['Total_booking'])"
      ],
      "execution_count": 2,
      "outputs": []
    },
    {
      "cell_type": "code",
      "metadata": {
        "colab": {
          "base_uri": "https://localhost:8080/"
        },
        "id": "wP9a9hq6tUmu",
        "outputId": "3cc6edd8-534b-4a37-c4bb-9a06b1901903"
      },
      "source": [
        "print('*** Train Dataset ***\\n',df_train_main.head())\n",
        "print('*** Test Dataset ***\\n', df_test_main.head())"
      ],
      "execution_count": 3,
      "outputs": [
        {
          "output_type": "stream",
          "text": [
            "*** Train Dataset ***\n",
            "            datetime  season  holiday  ...   atemp humidity  windspeed\n",
            "0    5/2/2012 19:00  Summer        0  ...  25.760       77    16.9979\n",
            "1     9/5/2012 4:00    Fall        0  ...  33.335       79    19.0012\n",
            "2    1/13/2011 9:00  Spring        0  ...   6.060       50    22.0028\n",
            "3  11/18/2011 16:00  Winter        0  ...  16.665       29     8.9981\n",
            "4   9/13/2011 13:00    Fall        0  ...  33.335       51    19.0012\n",
            "\n",
            "[5 rows x 9 columns]\n",
            "*** Test Dataset ***\n",
            "            datetime  season  holiday  ...   atemp humidity  windspeed\n",
            "0   5/10/2012 11:00  Summer        0  ...  25.000       48    35.0008\n",
            "1     6/9/2012 7:00  Summer        0  ...  27.275       64     7.0015\n",
            "2    3/6/2011 20:00  Spring        0  ...  12.120      100    27.9993\n",
            "3  10/13/2011 11:00  Winter        0  ...  28.790       83     0.0000\n",
            "4    6/2/2012 12:00  Summer        0  ...  31.060       43    23.9994\n",
            "\n",
            "[5 rows x 9 columns]\n"
          ],
          "name": "stdout"
        }
      ]
    },
    {
      "cell_type": "markdown",
      "metadata": {
        "id": "T9dF1U8_tUmv"
      },
      "source": [
        "# Data Preprocessing"
      ]
    },
    {
      "cell_type": "code",
      "metadata": {
        "colab": {
          "base_uri": "https://localhost:8080/"
        },
        "id": "4Wstx4HstUmw",
        "outputId": "a04e1b50-0108-4ac5-8bcc-c040d8cdc018"
      },
      "source": [
        "# Check the datatypes of columns in train dataset\n",
        "df_train_main.dtypes"
      ],
      "execution_count": 4,
      "outputs": [
        {
          "output_type": "execute_result",
          "data": {
            "text/plain": [
              "datetime       object\n",
              "season         object\n",
              "holiday         int64\n",
              "workingday      int64\n",
              "weather        object\n",
              "temp          float64\n",
              "atemp         float64\n",
              "humidity        int64\n",
              "windspeed     float64\n",
              "dtype: object"
            ]
          },
          "metadata": {
            "tags": []
          },
          "execution_count": 4
        }
      ]
    },
    {
      "cell_type": "code",
      "metadata": {
        "colab": {
          "base_uri": "https://localhost:8080/"
        },
        "id": "NljEGFiutUmw",
        "outputId": "1152b71d-cd00-4347-99ad-6cae24a9857f"
      },
      "source": [
        "# Check missing values in train dataset\n",
        "df_train_main.isnull().sum()"
      ],
      "execution_count": 5,
      "outputs": [
        {
          "output_type": "execute_result",
          "data": {
            "text/plain": [
              "datetime      0\n",
              "season        0\n",
              "holiday       0\n",
              "workingday    0\n",
              "weather       0\n",
              "temp          0\n",
              "atemp         0\n",
              "humidity      0\n",
              "windspeed     0\n",
              "dtype: int64"
            ]
          },
          "metadata": {
            "tags": []
          },
          "execution_count": 5
        }
      ]
    },
    {
      "cell_type": "code",
      "metadata": {
        "id": "dsGIPovatUmx"
      },
      "source": [
        "# Drop atemp from train and test dataset because temp and atemp represent same data\n",
        "df_train_main = df_train_main.drop(['atemp'], axis = 1)\n",
        "df_test_main = df_test_main.drop(['atemp'], axis = 1)"
      ],
      "execution_count": 6,
      "outputs": []
    },
    {
      "cell_type": "code",
      "metadata": {
        "id": "tke6couUtUmx"
      },
      "source": [
        "# Convert datetime columns from datatpe object to datetime\n",
        "df_train_main['datetime'] = pd.to_datetime(df_train_main['datetime'])\n",
        "df_test_main['datetime'] = pd.to_datetime(df_test_main['datetime'])"
      ],
      "execution_count": 7,
      "outputs": []
    },
    {
      "cell_type": "code",
      "metadata": {
        "colab": {
          "base_uri": "https://localhost:8080/"
        },
        "id": "B_D4cVxYtUmx",
        "outputId": "540722c4-ac99-4358-a9b6-c016fe720878"
      },
      "source": [
        "# Cross check datatypes again\n",
        "df_train_main.dtypes"
      ],
      "execution_count": 8,
      "outputs": [
        {
          "output_type": "execute_result",
          "data": {
            "text/plain": [
              "datetime      datetime64[ns]\n",
              "season                object\n",
              "holiday                int64\n",
              "workingday             int64\n",
              "weather               object\n",
              "temp                 float64\n",
              "humidity               int64\n",
              "windspeed            float64\n",
              "dtype: object"
            ]
          },
          "metadata": {
            "tags": []
          },
          "execution_count": 8
        }
      ]
    },
    {
      "cell_type": "code",
      "metadata": {
        "id": "0dlmLET9tUmy"
      },
      "source": [
        "#### Split Datetime into components - Year, Month, Date, Day. Hour\n",
        "#### Drop Datetime column after splitting\n",
        "\n",
        "# df_train\n",
        "df_train_main['Year'] = df_train_main['datetime'].dt.year\n",
        "df_train_main['Month'] = df_train_main['datetime'].dt.month\n",
        "df_train_main['Date'] = df_train_main['datetime'].dt.day\n",
        "df_train_main['Weekday'] = df_train_main['datetime'].dt.weekday\n",
        "df_train_main['Hour'] = df_train_main['datetime'].dt.hour\n",
        "df_train_main = df_train_main.drop(['datetime'], axis = 1)\n",
        "\n",
        "# df_test\n",
        "df_test_main['Year'] = df_test_main['datetime'].dt.year\n",
        "df_test_main['Month'] = df_test_main['datetime'].dt.month\n",
        "df_test_main['Date'] = df_test_main['datetime'].dt.day\n",
        "df_test_main['Weekday'] = df_test_main['datetime'].dt.weekday\n",
        "df_test_main['Hour'] = df_test_main['datetime'].dt.hour\n",
        "df_test_main = df_test_main.drop(['datetime'], axis = 1)\n",
        "\n",
        "column_list = ['season','holiday','workingday','weather','temp','humidity','windspeed','Year',\n",
        "               'Month','Date','Weekday','Hour']"
      ],
      "execution_count": 9,
      "outputs": []
    },
    {
      "cell_type": "code",
      "metadata": {
        "colab": {
          "base_uri": "https://localhost:8080/"
        },
        "id": "NwGbeEp2tUmy",
        "outputId": "49290c0c-5a18-4b02-d0f1-23af8457f519"
      },
      "source": [
        "# Cross check datatypes again\n",
        "df_train_main.dtypes"
      ],
      "execution_count": 10,
      "outputs": [
        {
          "output_type": "execute_result",
          "data": {
            "text/plain": [
              "season         object\n",
              "holiday         int64\n",
              "workingday      int64\n",
              "weather        object\n",
              "temp          float64\n",
              "humidity        int64\n",
              "windspeed     float64\n",
              "Year            int64\n",
              "Month           int64\n",
              "Date            int64\n",
              "Weekday         int64\n",
              "Hour            int64\n",
              "dtype: object"
            ]
          },
          "metadata": {
            "tags": []
          },
          "execution_count": 10
        }
      ]
    },
    {
      "cell_type": "code",
      "metadata": {
        "id": "tpky7v2LtUmz"
      },
      "source": [
        "# Use LabelEncoder to Convert categorical data Season and Weather to numeric\n",
        "from sklearn.preprocessing import LabelEncoder\n",
        "\n",
        "# Season\n",
        "le_season = LabelEncoder()\n",
        "df_train_main['season'] = le_season.fit_transform(df_train_main['season'])\n",
        "df_test_main['season'] = le_season.transform(df_test_main['season'])\n",
        "\n",
        "# Weather\n",
        "le_weather = LabelEncoder()\n",
        "df_train_main['weather'] = le_weather.fit_transform(df_train_main['weather'])\n",
        "df_test_main['weather'] = le_weather.transform(df_test_main['weather'])"
      ],
      "execution_count": 11,
      "outputs": []
    },
    {
      "cell_type": "code",
      "metadata": {
        "colab": {
          "base_uri": "https://localhost:8080/"
        },
        "id": "6UUsaVbTtUmz",
        "outputId": "b73dfeec-7b69-484a-b2eb-ba0c78487cc3"
      },
      "source": [
        "# Reduce 2000 from year column so that data is in level with other columns\n",
        "df_train_main['Year'] = df_train_main['Year'] - 2000\n",
        "df_test_main['Year'] = df_test_main['Year'] - 2000\n",
        "\n",
        "print(df_train_main.head())"
      ],
      "execution_count": 12,
      "outputs": [
        {
          "output_type": "stream",
          "text": [
            "   season  holiday  workingday  weather  ...  Month  Date  Weekday  Hour\n",
            "0       2        0           1        0  ...      5     2        2    19\n",
            "1       0        0           1        0  ...      9     5        2     4\n",
            "2       1        0           1        0  ...      1    13        3     9\n",
            "3       3        0           1        0  ...     11    18        4    16\n",
            "4       0        0           1        0  ...      9    13        1    13\n",
            "\n",
            "[5 rows x 12 columns]\n"
          ],
          "name": "stdout"
        }
      ]
    },
    {
      "cell_type": "code",
      "metadata": {
        "colab": {
          "base_uri": "https://localhost:8080/"
        },
        "id": "LtTszDyktUmz",
        "outputId": "7ce46be8-711a-4779-8353-54e5aa6af3db"
      },
      "source": [
        "# Cross check datatypes again\n",
        "df_train_main.dtypes"
      ],
      "execution_count": 13,
      "outputs": [
        {
          "output_type": "execute_result",
          "data": {
            "text/plain": [
              "season          int64\n",
              "holiday         int64\n",
              "workingday      int64\n",
              "weather         int64\n",
              "temp          float64\n",
              "humidity        int64\n",
              "windspeed     float64\n",
              "Year            int64\n",
              "Month           int64\n",
              "Date            int64\n",
              "Weekday         int64\n",
              "Hour            int64\n",
              "dtype: object"
            ]
          },
          "metadata": {
            "tags": []
          },
          "execution_count": 13
        }
      ]
    },
    {
      "cell_type": "markdown",
      "metadata": {
        "id": "41o4mgLYtUm0"
      },
      "source": [
        "Concatenate the Total_Booking into train and test datasets"
      ]
    },
    {
      "cell_type": "code",
      "metadata": {
        "colab": {
          "base_uri": "https://localhost:8080/"
        },
        "id": "9XLnrWK3tUm0",
        "outputId": "aca33d66-46ca-4f1a-da50-e98fffa80708"
      },
      "source": [
        "# Concatenate the Total_Booking column in train and test datasets\n",
        "\n",
        "df_train = pd.concat([df_train_main,df_train_label], axis = 1)\n",
        "df_test = pd.concat([df_test_main,df_test_label], axis = 1)\n",
        "\n",
        "print(df_train.head())"
      ],
      "execution_count": 14,
      "outputs": [
        {
          "output_type": "stream",
          "text": [
            "   season  holiday  workingday  weather  ...  Date  Weekday  Hour  Total_booking\n",
            "0       2        0           1        0  ...     2        2    19            504\n",
            "1       0        0           1        0  ...     5        2     4              5\n",
            "2       1        0           1        0  ...    13        3     9            139\n",
            "3       3        0           1        0  ...    18        4    16            209\n",
            "4       0        0           1        0  ...    13        1    13            184\n",
            "\n",
            "[5 rows x 13 columns]\n"
          ],
          "name": "stdout"
        }
      ]
    },
    {
      "cell_type": "markdown",
      "metadata": {
        "id": "psBljDMztUm0"
      },
      "source": [
        "# Outlier Analysis and removal using IQR\n",
        "Not removing outliers from categorical columns. So only temp, humidity and windspeed are non categorical data from which outliers are being removed"
      ]
    },
    {
      "cell_type": "code",
      "metadata": {
        "colab": {
          "base_uri": "https://localhost:8080/",
          "height": 176
        },
        "id": "WGtnkVLCtUm1",
        "outputId": "aea40a88-2793-4a6b-add1-c49a5efa32a9"
      },
      "source": [
        "old_shape = df_train.shape\n",
        "\n",
        "####################################################################\n",
        "#   REMOVE OUTLIERS USING IQR and create new dataframe after it\n",
        "####################################################################\n",
        "# Split data into X,y - This is just to take columns names only for features\n",
        "feature = df_train.iloc[ : ,0:-1]\n",
        "dependant_var = df_train.iloc[ : ,-1]\n",
        "my_list = ['temp','humidity','windspeed'] # Other all data are categorical hence no outlier analysis done on those\n",
        "\n",
        "# Find Upper Bound and Lower Bound per column and store in a Dataframe - df_ub_lb\n",
        "df_ub_lb = pd.DataFrame(columns = ['Column Name', 'Upper Bound', 'Lower Bound'])\n",
        "row_num = 0\n",
        "for x in my_list:\n",
        "    cur_col = df_train.loc[:,x]\n",
        "    cur_col_sorted = cur_col.sort_values()\n",
        "    iqr = cur_col_sorted.quantile(0.75) - cur_col_sorted.quantile(0.25)\n",
        "    upper_bound = cur_col_sorted.quantile(0.75) + (1.5 * iqr)\n",
        "    lower_bound = cur_col_sorted.quantile(0.25) - (1.5 * iqr)\n",
        "    my_row = [x,upper_bound,lower_bound]\n",
        "    df_ub_lb.loc[len(df_ub_lb)] = my_row\n",
        "display(df_ub_lb)\n",
        "\n",
        "#Remove Rows beyond upper bound and lower bound\n",
        "for x in my_list:\n",
        "    # Use the lb and ub dataframe fro previous for loop to find ub and lb for the specific columns\n",
        "    df_ub_lb_col = df_ub_lb.loc[df_ub_lb['Column Name'] == x]\n",
        "    df_ub_lb_col = df_ub_lb_col.reset_index()\n",
        "    lb = df_ub_lb_col.loc[0,'Lower Bound']\n",
        "    ub = df_ub_lb_col.loc[0,'Upper Bound']\n",
        "    # Remove data from the main dataframe\n",
        "    df_train.drop(df_train[df_train[x] > ub].index, inplace = True)\n",
        "    df_train.drop(df_train[df_train[x] < lb].index, inplace = True)\n",
        "\n",
        "new_shape = df_train.shape\n",
        "print('Shape of original dataframe: ', old_shape)\n",
        "print('Shape after removing outliers: ', new_shape)"
      ],
      "execution_count": 15,
      "outputs": [
        {
          "output_type": "display_data",
          "data": {
            "text/html": [
              "<div>\n",
              "<style scoped>\n",
              "    .dataframe tbody tr th:only-of-type {\n",
              "        vertical-align: middle;\n",
              "    }\n",
              "\n",
              "    .dataframe tbody tr th {\n",
              "        vertical-align: top;\n",
              "    }\n",
              "\n",
              "    .dataframe thead th {\n",
              "        text-align: right;\n",
              "    }\n",
              "</style>\n",
              "<table border=\"1\" class=\"dataframe\">\n",
              "  <thead>\n",
              "    <tr style=\"text-align: right;\">\n",
              "      <th></th>\n",
              "      <th>Column Name</th>\n",
              "      <th>Upper Bound</th>\n",
              "      <th>Lower Bound</th>\n",
              "    </tr>\n",
              "  </thead>\n",
              "  <tbody>\n",
              "    <tr>\n",
              "      <th>0</th>\n",
              "      <td>temp</td>\n",
              "      <td>44.6900</td>\n",
              "      <td>-4.5100</td>\n",
              "    </tr>\n",
              "    <tr>\n",
              "      <th>1</th>\n",
              "      <td>humidity</td>\n",
              "      <td>123.5000</td>\n",
              "      <td>-0.5000</td>\n",
              "    </tr>\n",
              "    <tr>\n",
              "      <th>2</th>\n",
              "      <td>windspeed</td>\n",
              "      <td>31.9925</td>\n",
              "      <td>-7.9931</td>\n",
              "    </tr>\n",
              "  </tbody>\n",
              "</table>\n",
              "</div>"
            ],
            "text/plain": [
              "  Column Name  Upper Bound  Lower Bound\n",
              "0        temp      44.6900      -4.5100\n",
              "1    humidity     123.5000      -0.5000\n",
              "2   windspeed      31.9925      -7.9931"
            ]
          },
          "metadata": {
            "tags": []
          }
        },
        {
          "output_type": "stream",
          "text": [
            "Shape of original dataframe:  (8708, 13)\n",
            "Shape after removing outliers:  (8526, 13)\n"
          ],
          "name": "stdout"
        }
      ]
    },
    {
      "cell_type": "markdown",
      "metadata": {
        "id": "ITpmSThYtUm2"
      },
      "source": [
        "# Feature Scaling for Train and Test both - Not  Done here"
      ]
    },
    {
      "cell_type": "code",
      "metadata": {
        "colab": {
          "base_uri": "https://localhost:8080/",
          "height": 52
        },
        "id": "F1k6Vbn3tUm3",
        "outputId": "b5844cdc-e210-4305-93ec-b0a946e642a8"
      },
      "source": [
        "'''\n",
        "from sklearn.preprocessing import StandardScaler\n",
        "scaler = StandardScaler()\n",
        "\n",
        "df_train_main = pd.DataFrame(scaler.fit_transform(df_train_main),columns= column_list)\n",
        "df_test_main = pd.DataFrame(scaler.transform(df_test_main),columns= column_list)\n",
        "\n",
        "print(df_train_main.head())\n",
        "print(df_test_main.head())\n",
        "'''"
      ],
      "execution_count": null,
      "outputs": [
        {
          "output_type": "execute_result",
          "data": {
            "application/vnd.google.colaboratory.intrinsic+json": {
              "type": "string"
            },
            "text/plain": [
              "'\\nfrom sklearn.preprocessing import StandardScaler\\nscaler = StandardScaler()\\n\\ndf_train_main = pd.DataFrame(scaler.fit_transform(df_train_main),columns= column_list)\\ndf_test_main = pd.DataFrame(scaler.transform(df_test_main),columns= column_list)\\n\\nprint(df_train_main.head())\\nprint(df_test_main.head())\\n'"
            ]
          },
          "metadata": {
            "tags": []
          },
          "execution_count": 19
        }
      ]
    },
    {
      "cell_type": "markdown",
      "metadata": {
        "id": "83NFiDXitUm3"
      },
      "source": [
        "# Graphical Analysis"
      ]
    },
    {
      "cell_type": "code",
      "metadata": {
        "id": "ZcQwV1F1tUm3"
      },
      "source": [
        "import matplotlib.pyplot as plt\n",
        "import seaborn as sns"
      ],
      "execution_count": 16,
      "outputs": []
    },
    {
      "cell_type": "code",
      "metadata": {
        "scrolled": false,
        "colab": {
          "base_uri": "https://localhost:8080/",
          "height": 613
        },
        "id": "TflskLSstUm3",
        "outputId": "33eeca85-f2b4-4553-bc75-fa100cd7bd51"
      },
      "source": [
        "# Co-relation Heatmap\n",
        "\n",
        "import numpy as np\n",
        "matrix = np.triu(df_train.corr())\n",
        "fig, ax = plt.subplots(figsize=(20,10))\n",
        "sns.heatmap(df_train.corr(), annot = True , vmin =-1 , vmax = 1, center = 0, cmap= 'coolwarm', \n",
        "            mask = matrix,linewidth=1, linecolor = 'black')"
      ],
      "execution_count": 17,
      "outputs": [
        {
          "output_type": "execute_result",
          "data": {
            "text/plain": [
              "<matplotlib.axes._subplots.AxesSubplot at 0x7fc170d1ee10>"
            ]
          },
          "metadata": {
            "tags": []
          },
          "execution_count": 17
        },
        {
          "output_type": "display_data",
          "data": {
            "image/png": "[encoded data removed]",
            "text/plain": [
              "<Figure size 1440x720 with 2 Axes>"
            ]
          },
          "metadata": {
            "tags": [],
            "needs_background": "light"
          }
        }
      ]
    },
    {
      "cell_type": "markdown",
      "metadata": {
        "id": "_Je744l4tUm4"
      },
      "source": [
        "Observation - \n",
        "1. Weekday and Working day are negatively related\n",
        "2. Total booking seems positively related to Hour and temp"
      ]
    },
    {
      "cell_type": "code",
      "metadata": {
        "colab": {
          "base_uri": "https://localhost:8080/",
          "height": 1000
        },
        "id": "1QkY9L-XtUm4",
        "outputId": "2986ffa1-a373-4602-ceca-6325e742af47"
      },
      "source": [
        "# Bar Plots - Categorical values columns - SUM Vs Total_booking\n",
        "\n",
        "columns_list = ['season', 'holiday', 'workingday', 'weather', 'Year', 'Month', 'Date', 'Weekday', 'Hour']\n",
        "\n",
        "df_for_plotting = df_train\n",
        "df_for_plotting['season'] = le_season.inverse_transform(df_for_plotting['season'])\n",
        "df_for_plotting['weather'] = le_weather.inverse_transform(df_for_plotting['weather'])\n",
        "#df_for_plotting['Year'] = le_weather.inverse_transform(df_for_plotting['Year'])\n",
        "\n",
        "print('Bar Plots based on SUM OF TOTAL BOOKING based on categories in different columns')\n",
        "\n",
        "for col in columns_list:\n",
        "    pivot_plot = pd.pivot_table(df_for_plotting,\n",
        "                                  columns = col,\n",
        "                                  values = 'Total_booking',\n",
        "                                  aggfunc = np.sum,                    #### SUM\n",
        "                                  fill_value = 0)\n",
        "    df_plot = pd.DataFrame(pivot_plot)\n",
        "    df_plot = df_plot.T\n",
        "    df_plot = df_plot.reset_index()\n",
        "    df_plot.plot.bar(x=col, y='Total_booking', rot=90)"
      ],
      "execution_count": 18,
      "outputs": [
        {
          "output_type": "stream",
          "text": [
            "Bar Plots based on SUM OF TOTAL BOOKING based on categories in different columns\n"
          ],
          "name": "stdout"
        },
        {
          "output_type": "display_data",
          "data": {
            "image/png": "[encoded data removed]",
            "text/plain": [
              "<Figure size 432x288 with 1 Axes>"
            ]
          },
          "metadata": {
            "tags": [],
            "needs_background": "light"
          }
        },
        {
          "output_type": "display_data",
          "data": {
            "image/png": "[encoded data removed]",
            "text/plain": [
              "<Figure size 432x288 with 1 Axes>"
            ]
          },
          "metadata": {
            "tags": [],
            "needs_background": "light"
          }
        },
        {
          "output_type": "display_data",
          "data": {
            "image/png": "[encoded data removed]",
            "text/plain": [
              "<Figure size 432x288 with 1 Axes>"
            ]
          },
          "metadata": {
            "tags": [],
            "needs_background": "light"
          }
        },
        {
          "output_type": "display_data",
          "data": {
            "image/png": "[encoded data removed]",
            "text/plain": [
              "<Figure size 432x288 with 1 Axes>"
            ]
          },
          "metadata": {
            "tags": [],
            "needs_background": "light"
          }
        },
        {
          "output_type": "display_data",
          "data": {
            "image/png": "[encoded data removed]",
            "text/plain": [
              "<Figure size 432x288 with 1 Axes>"
            ]
          },
          "metadata": {
            "tags": [],
            "needs_background": "light"
          }
        },
        {
          "output_type": "display_data",
          "data": {
            "image/png": "[encoded data removed]",
            "text/plain": [
              "<Figure size 432x288 with 1 Axes>"
            ]
          },
          "metadata": {
            "tags": [],
            "needs_background": "light"
          }
        },
        {
          "output_type": "display_data",
          "data": {
            "image/png": "[encoded data removed]",
            "text/plain": [
              "<Figure size 432x288 with 1 Axes>"
            ]
          },
          "metadata": {
            "tags": [],
            "needs_background": "light"
          }
        },
        {
          "output_type": "display_data",
          "data": {
            "image/png": "[encoded data removed]",
            "text/plain": [
              "<Figure size 432x288 with 1 Axes>"
            ]
          },
          "metadata": {
            "tags": [],
            "needs_background": "light"
          }
        },
        {
          "output_type": "display_data",
          "data": {
            "image/png": "[encoded data removed]",
            "text/plain": [
              "<Figure size 432x288 with 1 Axes>"
            ]
          },
          "metadata": {
            "tags": [],
            "needs_background": "light"
          }
        }
      ]
    },
    {
      "cell_type": "code",
      "metadata": {
        "colab": {
          "base_uri": "https://localhost:8080/",
          "height": 1000
        },
        "id": "g059-JoktUm5",
        "outputId": "02a62757-c314-4a29-a582-6b35f3ac6cd9"
      },
      "source": [
        "# Bar Plots - Categorical values columns - MEAN Vs Total_booking\n",
        "\n",
        "print('Bar Plots based on SUM OF TOTAL BOOKING based on categories in different columns')\n",
        "\n",
        "for col in columns_list:\n",
        "    pivot_plot = pd.pivot_table(df_for_plotting,\n",
        "                                columns = col,\n",
        "                                values = 'Total_booking',\n",
        "                                aggfunc = np.mean,                    #### MEAN\n",
        "                                fill_value = 0)\n",
        "    df_plot = pd.DataFrame(pivot_plot)\n",
        "    df_plot = df_plot.T\n",
        "    df_plot = df_plot.reset_index()\n",
        "    df_plot.plot.bar(x=col, y='Total_booking', rot=90)"
      ],
      "execution_count": 19,
      "outputs": [
        {
          "output_type": "stream",
          "text": [
            "Bar Plots based on SUM OF TOTAL BOOKING based on categories in different columns\n"
          ],
          "name": "stdout"
        },
        {
          "output_type": "display_data",
          "data": {
            "image/png": "[encoded data removed]",
            "text/plain": [
              "<Figure size 432x288 with 1 Axes>"
            ]
          },
          "metadata": {
            "tags": [],
            "needs_background": "light"
          }
        },
        {
          "output_type": "display_data",
          "data": {
            "image/png": "[encoded data removed]",
            "text/plain": [
              "<Figure size 432x288 with 1 Axes>"
            ]
          },
          "metadata": {
            "tags": [],
            "needs_background": "light"
          }
        },
        {
          "output_type": "display_data",
          "data": {
            "image/png": "[encoded data removed]",
            "text/plain": [
              "<Figure size 432x288 with 1 Axes>"
            ]
          },
          "metadata": {
            "tags": [],
            "needs_background": "light"
          }
        },
        {
          "output_type": "display_data",
          "data": {
            "image/png": "[encoded data removed]",
            "text/plain": [
              "<Figure size 432x288 with 1 Axes>"
            ]
          },
          "metadata": {
            "tags": [],
            "needs_background": "light"
          }
        },
        {
          "output_type": "display_data",
          "data": {
            "image/png": "[encoded data removed]",
            "text/plain": [
              "<Figure size 432x288 with 1 Axes>"
            ]
          },
          "metadata": {
            "tags": [],
            "needs_background": "light"
          }
        },
        {
          "output_type": "display_data",
          "data": {
            "image/png": "[encoded data removed]",
            "text/plain": [
              "<Figure size 432x288 with 1 Axes>"
            ]
          },
          "metadata": {
            "tags": [],
            "needs_background": "light"
          }
        },
        {
          "output_type": "display_data",
          "data": {
            "image/png": "[encoded data removed]",
            "text/plain": [
              "<Figure size 432x288 with 1 Axes>"
            ]
          },
          "metadata": {
            "tags": [],
            "needs_background": "light"
          }
        },
        {
          "output_type": "display_data",
          "data": {
            "image/png": "[encoded data removed]",
            "text/plain": [
              "<Figure size 432x288 with 1 Axes>"
            ]
          },
          "metadata": {
            "tags": [],
            "needs_background": "light"
          }
        },
        {
          "output_type": "display_data",
          "data": {
            "image/png": "[encoded data removed]",
            "text/plain": [
              "<Figure size 432x288 with 1 Axes>"
            ]
          },
          "metadata": {
            "tags": [],
            "needs_background": "light"
          }
        }
      ]
    },
    {
      "cell_type": "markdown",
      "metadata": {
        "id": "Ad5c1pCOtUm5"
      },
      "source": [
        "# Split data to X_train, X_test, y_train and y_test"
      ]
    },
    {
      "cell_type": "code",
      "metadata": {
        "colab": {
          "base_uri": "https://localhost:8080/"
        },
        "id": "3r21rqG_tUm6",
        "outputId": "6bab64c8-8b97-453e-90eb-e3ce97f9308c"
      },
      "source": [
        "# Apply Label Encodding back to df_train\n",
        "df_train['season'] = le_season.fit_transform(df_train['season'])\n",
        "df_train['weather'] = le_weather.fit_transform(df_train['weather'])\n",
        "#df_train['Year'] = le_year.fit_transform(df_train['Year'])\n",
        "\n",
        "print(df_train.head())\n",
        "print(df_test.head())"
      ],
      "execution_count": 20,
      "outputs": [
        {
          "output_type": "stream",
          "text": [
            "   season  holiday  workingday  weather  ...  Date  Weekday  Hour  Total_booking\n",
            "0       2        0           1        0  ...     2        2    19            504\n",
            "1       0        0           1        0  ...     5        2     4              5\n",
            "2       1        0           1        0  ...    13        3     9            139\n",
            "3       3        0           1        0  ...    18        4    16            209\n",
            "4       0        0           1        0  ...    13        1    13            184\n",
            "\n",
            "[5 rows x 13 columns]\n",
            "   season  holiday  workingday  weather  ...  Date  Weekday  Hour  Total_booking\n",
            "0       2        0           1        0  ...    10        3    11            256\n",
            "1       2        0           0        0  ...     9        5     7             87\n",
            "2       1        0           0        2  ...     6        6    20             11\n",
            "3       3        0           1        3  ...    13        3    11             84\n",
            "4       2        0           0        0  ...     2        5    12            668\n",
            "\n",
            "[5 rows x 13 columns]\n"
          ],
          "name": "stdout"
        }
      ]
    },
    {
      "cell_type": "code",
      "metadata": {
        "id": "hqwtokfltUm6"
      },
      "source": [
        "X_train = df_train.iloc[:,0:-1]\n",
        "y_train = df_train.iloc[:,-1]\n",
        "\n",
        "X_test = df_test.iloc[:,0:-1]\n",
        "y_test = df_test.iloc[:,-1]"
      ],
      "execution_count": 21,
      "outputs": []
    },
    {
      "cell_type": "markdown",
      "metadata": {
        "id": "ldlEk-x2tUm7"
      },
      "source": [
        "# Create Grid Search function"
      ]
    },
    {
      "cell_type": "code",
      "metadata": {
        "id": "WzRpkCcotUm7"
      },
      "source": [
        "from math import sqrt\n",
        "from sklearn.model_selection import train_test_split\n",
        "from sklearn.model_selection import (GridSearchCV, RandomizedSearchCV)\n",
        "from sklearn.metrics import (mean_squared_error, mean_absolute_error,r2_score)\n",
        "\n",
        "def FitModel(x_train_L,y_train_L,x_test_L,y_test_L,algo_name,algorithm,gridSearchParams,cv):\n",
        "    np.random.seed(10)\n",
        "    \n",
        "    grid = GridSearchCV(\n",
        "        estimator=algorithm,\n",
        "        param_grid=gridSearchParams,\n",
        "        cv=cv,  verbose=1, n_jobs=-1)\n",
        "    \n",
        "    grid_result = grid.fit(x_train_L, y_train_L)\n",
        "    best_params = grid_result.best_params_\n",
        "    pred = grid_result.predict(x_test_L)\n",
        "    \n",
        "    print('Best Params :',best_params)\n",
        "    print('R2 Score {}'.format(r2_score(y_test_L,pred)))\n",
        "    print('Root Mean squared error {}'.format(sqrt(mean_squared_error(y_test_L,pred))))"
      ],
      "execution_count": 22,
      "outputs": []
    },
    {
      "cell_type": "markdown",
      "metadata": {
        "id": "FQoVtxWVtUm7"
      },
      "source": [
        "# Apply Regression models and pass through Grid Search Function to get best parameters"
      ]
    },
    {
      "cell_type": "code",
      "metadata": {
        "colab": {
          "base_uri": "https://localhost:8080/"
        },
        "id": "mKnte7C4tUm7",
        "outputId": "3649420b-1d15-40ce-b979-98ad4dd87893"
      },
      "source": [
        "# Decision Tree\n",
        "from sklearn.tree import DecisionTreeRegressor\n",
        "\n",
        "dt_params = {\n",
        "    'criterion' : ['mse', 'friedman_mse', 'mae', 'poisson'],\n",
        "    'splitter': ['best', 'random'],\n",
        "    'max_depth' : [5,10,15,20,25,50,100,150,200]\n",
        "}\n",
        "\n",
        "FitModel(X_train,y_train,X_test,y_test,'Decision Tree',DecisionTreeRegressor(random_state = 0),dt_params,cv=5)"
      ],
      "execution_count": null,
      "outputs": [
        {
          "output_type": "stream",
          "text": [
            "Fitting 5 folds for each of 72 candidates, totalling 360 fits\n"
          ],
          "name": "stdout"
        },
        {
          "output_type": "stream",
          "text": [
            "[Parallel(n_jobs=-1)]: Using backend LokyBackend with 4 concurrent workers.\n",
            "[Parallel(n_jobs=-1)]: Done  68 tasks      | elapsed:    1.8s\n"
          ],
          "name": "stderr"
        },
        {
          "output_type": "stream",
          "text": [
            "Best Params : {'criterion': 'mse', 'max_depth': 50, 'splitter': 'best'}\n",
            "R2 Score 0.9036322535999006\n",
            "Root Mean squared error 55.68856071319049\n"
          ],
          "name": "stdout"
        },
        {
          "output_type": "stream",
          "text": [
            "[Parallel(n_jobs=-1)]: Done 360 out of 360 | elapsed:   41.3s finished\n"
          ],
          "name": "stderr"
        }
      ]
    },
    {
      "cell_type": "code",
      "metadata": {
        "colab": {
          "base_uri": "https://localhost:8080/"
        },
        "id": "OzePfeJntUm8",
        "outputId": "f2dfe888-9fa6-422d-a7f2-201e35c971ec"
      },
      "source": [
        "# Random Forest\n",
        "from sklearn.ensemble import RandomForestRegressor\n",
        "\n",
        "rf_params = {\n",
        "    'n_estimators' : [50,100,150,200,300,500],\n",
        "    'criterion' : ['mse', 'mae'],\n",
        "    'max_depth' : [2,3,4,5,6,7]\n",
        "}\n",
        "\n",
        "FitModel(X_train,y_train,X_test,y_test,'Random Tree',RandomForestRegressor(random_state = 0),rf_params,cv=5)"
      ],
      "execution_count": null,
      "outputs": [
        {
          "output_type": "stream",
          "text": [
            "[Parallel(n_jobs=-1)]: Using backend LokyBackend with 4 concurrent workers.\n"
          ],
          "name": "stderr"
        },
        {
          "output_type": "stream",
          "text": [
            "Fitting 5 folds for each of 72 candidates, totalling 360 fits\n"
          ],
          "name": "stdout"
        },
        {
          "output_type": "stream",
          "text": [
            "[Parallel(n_jobs=-1)]: Done  42 tasks      | elapsed:   11.4s\n",
            "[Parallel(n_jobs=-1)]: Done 192 tasks      | elapsed:  4.1min\n",
            "[Parallel(n_jobs=-1)]: Done 360 out of 360 | elapsed: 112.3min finished\n"
          ],
          "name": "stderr"
        },
        {
          "output_type": "stream",
          "text": [
            "Best Params : {'criterion': 'mse', 'max_depth': 7, 'n_estimators': 200}\n",
            "R2 Score 0.8394165265166555\n",
            "Root Mean squared error 71.88703409430587\n"
          ],
          "name": "stdout"
        }
      ]
    },
    {
      "cell_type": "code",
      "metadata": {
        "colab": {
          "base_uri": "https://localhost:8080/"
        },
        "id": "ahzRUWujtUm8",
        "outputId": "dd0dd863-56fe-426d-c5a8-ce3d4f450c47"
      },
      "source": [
        "# Support Vector\n",
        "from sklearn.svm import SVR\n",
        "\n",
        "svr_params = {\n",
        "    'kernel': ['rbf', 'sigmoid'],  #'precomputed' is excluded as there was error and linear, polynomial also excluded due to high runtime\n",
        "    'epsilon' : [0.1,1,5,10,15],\n",
        "    'gamma' : ['scale', 'auto', 0.001, 0.01, 0.1, 1, 3, 5],\n",
        "    'C': [0.1, 1, 100, 1000],\n",
        "}\n",
        "\n",
        "FitModel(X_train,y_train,X_test,y_test,'SVM',SVR(),svr_params,cv = 5)"
      ],
      "execution_count": null,
      "outputs": [
        {
          "output_type": "stream",
          "text": [
            "Fitting 5 folds for each of 320 candidates, totalling 1600 fits\n"
          ],
          "name": "stdout"
        },
        {
          "output_type": "stream",
          "text": [
            "[Parallel(n_jobs=-1)]: Using backend LokyBackend with 4 concurrent workers.\n",
            "[Parallel(n_jobs=-1)]: Done  42 tasks      | elapsed:   51.0s\n",
            "[Parallel(n_jobs=-1)]: Done 192 tasks      | elapsed:  3.4min\n",
            "[Parallel(n_jobs=-1)]: Done 442 tasks      | elapsed:  7.6min\n",
            "[Parallel(n_jobs=-1)]: Done 792 tasks      | elapsed: 13.3min\n",
            "[Parallel(n_jobs=-1)]: Done 1242 tasks      | elapsed: 23.2min\n",
            "[Parallel(n_jobs=-1)]: Done 1600 out of 1600 | elapsed: 34.4min finished\n"
          ],
          "name": "stderr"
        },
        {
          "output_type": "stream",
          "text": [
            "Best Params : {'C': 1000, 'epsilon': 15, 'gamma': 0.01, 'kernel': 'rbf'}\n",
            "R2 Score 0.6509380297093754\n",
            "Root Mean squared error 105.98670971033253\n"
          ],
          "name": "stdout"
        }
      ]
    },
    {
      "cell_type": "code",
      "metadata": {
        "colab": {
          "base_uri": "https://localhost:8080/"
        },
        "id": "Zv9pWhsqtUm8",
        "outputId": "7484c404-906b-49d1-ecbd-208d6294455a"
      },
      "source": [
        "# Polynomial Regression\n",
        "from sklearn.preprocessing import PolynomialFeatures\n",
        "from sklearn.linear_model import LinearRegression\n",
        "from sklearn.metrics import r2_score\n",
        "\n",
        "deg = 1\n",
        "while deg <= 5:\n",
        "    poly_reg = PolynomialFeatures(degree = deg)\n",
        "    X_poly = poly_reg.fit_transform(X_train)\n",
        "    regressor = LinearRegression()\n",
        "    regressor.fit(X_poly,y_train)\n",
        "    \n",
        "    y_pred = pd.DataFrame(regressor.predict(poly_reg.transform(X_test)),columns = ['y_pred'])\n",
        "    print(y_pred.head())\n",
        "    deg = deg + 1\n",
        "    \n",
        "    print('R2 Score: ',r2_score(y_test,y_pred))"
      ],
      "execution_count": null,
      "outputs": [
        {
          "output_type": "stream",
          "text": [
            "       y_pred\n",
            "0  275.558283\n",
            "1  223.265521\n",
            "2   55.068126\n",
            "3  183.619355\n",
            "4  323.572414\n",
            "R2 Score:  0.40056152578484494\n",
            "       y_pred\n",
            "0  331.824794\n",
            "1  271.565715\n",
            "2 -121.615786\n",
            "3  243.291461\n",
            "4  427.584061\n",
            "R2 Score:  0.5517304468741078\n",
            "       y_pred\n",
            "0  360.648698\n",
            "1  236.918041\n",
            "2  -12.551814\n",
            "3  228.280469\n",
            "4  500.134108\n",
            "R2 Score:  0.6128647964761169\n",
            "       y_pred\n",
            "0  296.377731\n",
            "1  168.575142\n",
            "2  -15.759154\n",
            "3  138.064525\n",
            "4  614.764541\n",
            "R2 Score:  -20.762417503303116\n",
            "       y_pred\n",
            "0   40.910885\n",
            "1  127.516160\n",
            "2 -123.447453\n",
            "3   84.998892\n",
            "4  706.035909\n",
            "R2 Score:  -157.657398456846\n"
          ],
          "name": "stdout"
        }
      ]
    },
    {
      "cell_type": "code",
      "metadata": {
        "colab": {
          "base_uri": "https://localhost:8080/"
        },
        "id": "XmJLrd7Eu7yh",
        "outputId": "f8063111-e8ec-40ee-af7c-274a31ad399e"
      },
      "source": [
        "from sklearn.ensemble import GradientBoostingRegressor\n",
        "\n",
        "param ={\n",
        "            'n_estimators': [50,100,500,700,1000,2000],\n",
        "            'max_depth':[2,3,4,5],\n",
        "             'min_samples_split':range(200,1001,200),\n",
        "            'learning_rate':[0.001,0.005,0.01,0.05,0.1,0.5]\n",
        "        }\n",
        "FitModel(X_train,y_train,X_test,y_test,'GradientBoostingRegressor',GradientBoostingRegressor(),param,cv=5)"
      ],
      "execution_count": 26,
      "outputs": [
        {
          "output_type": "stream",
          "text": [
            "Fitting 5 folds for each of 720 candidates, totalling 3600 fits\n"
          ],
          "name": "stdout"
        },
        {
          "output_type": "stream",
          "text": [
            "[Parallel(n_jobs=-1)]: Using backend LokyBackend with 4 concurrent workers.\n",
            "[Parallel(n_jobs=-1)]: Done  42 tasks      | elapsed:   40.9s\n",
            "[Parallel(n_jobs=-1)]: Done 192 tasks      | elapsed:  4.0min\n",
            "[Parallel(n_jobs=-1)]: Done 442 tasks      | elapsed: 12.1min\n",
            "[Parallel(n_jobs=-1)]: Done 792 tasks      | elapsed: 22.5min\n",
            "[Parallel(n_jobs=-1)]: Done 1242 tasks      | elapsed: 37.9min\n",
            "[Parallel(n_jobs=-1)]: Done 1792 tasks      | elapsed: 55.0min\n",
            "[Parallel(n_jobs=-1)]: Done 2442 tasks      | elapsed: 74.3min\n",
            "[Parallel(n_jobs=-1)]: Done 3192 tasks      | elapsed: 95.6min\n",
            "[Parallel(n_jobs=-1)]: Done 3600 out of 3600 | elapsed: 110.1min finished\n"
          ],
          "name": "stderr"
        },
        {
          "output_type": "stream",
          "text": [
            "Best Params : {'learning_rate': 0.1, 'max_depth': 5, 'min_samples_split': 200, 'n_estimators': 2000}\n",
            "R2 Score 0.9580969097621479\n",
            "Root Mean squared error 36.72173296739828\n"
          ],
          "name": "stdout"
        }
      ]
    },
    {
      "cell_type": "markdown",
      "metadata": {
        "id": "VI-dSUptwb08"
      },
      "source": [
        "# Implementing GradientBoostRegressor with Best Params : {'learning_rate': 0.1, 'max_depth': 5, 'min_samples_split': 200, 'n_estimators': 2000}"
      ]
    },
    {
      "cell_type": "code",
      "metadata": {
        "id": "D6bioWkzwlWP",
        "colab": {
          "base_uri": "https://localhost:8080/"
        },
        "outputId": "07c61592-a701-4dca-f970-8885b50b5ca5"
      },
      "source": [
        "from sklearn.ensemble import GradientBoostingRegressor\n",
        "gbr_reg = GradientBoostingRegressor(learning_rate = 0.1, max_depth = 5, min_samples_split = 200, n_estimators = 2000)\n",
        "gbr_reg.fit(X_train,y_train)"
      ],
      "execution_count": 24,
      "outputs": [
        {
          "output_type": "execute_result",
          "data": {
            "text/plain": [
              "GradientBoostingRegressor(alpha=0.9, ccp_alpha=0.0, criterion='friedman_mse',\n",
              "                          init=None, learning_rate=0.1, loss='ls', max_depth=5,\n",
              "                          max_features=None, max_leaf_nodes=None,\n",
              "                          min_impurity_decrease=0.0, min_impurity_split=None,\n",
              "                          min_samples_leaf=1, min_samples_split=200,\n",
              "                          min_weight_fraction_leaf=0.0, n_estimators=2000,\n",
              "                          n_iter_no_change=None, presort='deprecated',\n",
              "                          random_state=None, subsample=1.0, tol=0.0001,\n",
              "                          validation_fraction=0.1, verbose=0, warm_start=False)"
            ]
          },
          "metadata": {
            "tags": []
          },
          "execution_count": 24
        }
      ]
    },
    {
      "cell_type": "code",
      "metadata": {
        "colab": {
          "base_uri": "https://localhost:8080/"
        },
        "id": "_4PDPFZyhyWF",
        "outputId": "5d0e34a7-bacf-4302-b2f6-762dc353cafc"
      },
      "source": [
        "# Make predictions on y_test\n",
        "\n",
        "y_pred = pd.DataFrame(gbr_reg.predict(X_test), columns = ['Prediction'])\n",
        "\n",
        "# Prepare final of test values with predictions\n",
        "df_test_final = pd.read_csv('test.csv')\n",
        "df_test_label_final = pd.read_csv('test_label.csv', names = ['Total_booking'])\n",
        "\n",
        "df_test_final= pd.concat([df_test_final,df_test_label_final,y_pred], axis = 1)\n",
        "print(df_test_final.head())\n",
        "\n",
        "# Write the dataframe to csv\n",
        "df_test_final.to_csv('Prediction.csv', index = False)"
      ],
      "execution_count": 25,
      "outputs": [
        {
          "output_type": "stream",
          "text": [
            "           datetime  season  holiday  ...  windspeed Total_booking  Prediction\n",
            "0   5/10/2012 11:00  Summer        0  ...    35.0008           256  217.689550\n",
            "1     6/9/2012 7:00  Summer        0  ...     7.0015            87  155.494791\n",
            "2    3/6/2011 20:00  Spring        0  ...    27.9993            11   22.458269\n",
            "3  10/13/2011 11:00  Winter        0  ...     0.0000            84   92.774392\n",
            "4    6/2/2012 12:00  Summer        0  ...    23.9994           668  600.858043\n",
            "\n",
            "[5 rows x 11 columns]\n"
          ],
          "name": "stdout"
        }
      ]
    },
    {
      "cell_type": "markdown",
      "metadata": {
        "id": "xuSfYL7Zfez7"
      },
      "source": [
        "**Synopsis** - \n",
        "\n",
        "From bar plots we can see below observations - \n",
        "1. 1700 and 1800 are peak times so more numnber of cabs are needed\n",
        "2. Morning 0800 and evening 1600 and 1900 have also high bookings\n",
        "3. Month 5 to 10 have relatively higher booking might be due to monsoon with month 6 being highest\n",
        "4. Weather - Clear + Few clouds --> More booking seen\n",
        "\n",
        "From Grid search we can see that Decision Tree Regression model is the best model with R2 Score of around .96 with parameters - \n",
        "1. learning_rate = 0.1\n",
        "2. max_depth = 5\n",
        "3. min_samples_split = 200\n",
        "4. n_estimators = 2000\n",
        "\n",
        "Hence we will apply Gradient Boost Regressor for this data set with the parameters mentioned above.\n",
        "\n"
      ]
    }
  ]
}