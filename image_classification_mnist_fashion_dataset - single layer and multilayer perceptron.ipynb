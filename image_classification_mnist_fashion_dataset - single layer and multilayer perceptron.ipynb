{
  "nbformat": 4,
  "nbformat_minor": 0,
  "metadata": {
    "colab": {
      "name": "deep_learning_assignment_file3.ipynb",
      "provenance": [],
      "collapsed_sections": [],
      "toc_visible": true,
      "machine_shape": "hm"
    },
    "kernelspec": {
      "name": "python3",
      "display_name": "Python 3"
    },
    "accelerator": "GPU"
  },
  "cells": [
    {
      "cell_type": "markdown",
      "metadata": {
        "id": "nZXfL-frj_4W"
      },
      "source": [
        "# **Install Tensor Flow in this session and import libraries**"
      ]
    },
    {
      "cell_type": "code",
      "metadata": {
        "colab": {
          "base_uri": "https://localhost:8080/"
        },
        "id": "KtqX3DCmkDBh",
        "outputId": "0c7ace8d-ff19-4d86-ac8f-6f233838b3cc"
      },
      "source": [
        "!pip install tensorflow"
      ],
      "execution_count": 1,
      "outputs": [
        {
          "output_type": "stream",
          "text": [
            "Requirement already satisfied: tensorflow in /usr/local/lib/python3.7/dist-packages (2.5.0)\n",
            "Requirement already satisfied: grpcio~=1.34.0 in /usr/local/lib/python3.7/dist-packages (from tensorflow) (1.34.1)\n",
            "Requirement already satisfied: astunparse~=1.6.3 in /usr/local/lib/python3.7/dist-packages (from tensorflow) (1.6.3)\n",
            "Requirement already satisfied: termcolor~=1.1.0 in /usr/local/lib/python3.7/dist-packages (from tensorflow) (1.1.0)\n",
            "Requirement already satisfied: six~=1.15.0 in /usr/local/lib/python3.7/dist-packages (from tensorflow) (1.15.0)\n",
            "Requirement already satisfied: absl-py~=0.10 in /usr/local/lib/python3.7/dist-packages (from tensorflow) (0.12.0)\n",
            "Requirement already satisfied: flatbuffers~=1.12.0 in /usr/local/lib/python3.7/dist-packages (from tensorflow) (1.12)\n",
            "Requirement already satisfied: wheel~=0.35 in /usr/local/lib/python3.7/dist-packages (from tensorflow) (0.36.2)\n",
            "Requirement already satisfied: tensorboard~=2.5 in /usr/local/lib/python3.7/dist-packages (from tensorflow) (2.5.0)\n",
            "Requirement already satisfied: keras-preprocessing~=1.1.2 in /usr/local/lib/python3.7/dist-packages (from tensorflow) (1.1.2)\n",
            "Requirement already satisfied: gast==0.4.0 in /usr/local/lib/python3.7/dist-packages (from tensorflow) (0.4.0)\n",
            "Requirement already satisfied: keras-nightly~=2.5.0.dev in /usr/local/lib/python3.7/dist-packages (from tensorflow) (2.5.0.dev2021032900)\n",
            "Requirement already satisfied: opt-einsum~=3.3.0 in /usr/local/lib/python3.7/dist-packages (from tensorflow) (3.3.0)\n",
            "Requirement already satisfied: h5py~=3.1.0 in /usr/local/lib/python3.7/dist-packages (from tensorflow) (3.1.0)\n",
            "Requirement already satisfied: google-pasta~=0.2 in /usr/local/lib/python3.7/dist-packages (from tensorflow) (0.2.0)\n",
            "Requirement already satisfied: wrapt~=1.12.1 in /usr/local/lib/python3.7/dist-packages (from tensorflow) (1.12.1)\n",
            "Requirement already satisfied: protobuf>=3.9.2 in /usr/local/lib/python3.7/dist-packages (from tensorflow) (3.12.4)\n",
            "Requirement already satisfied: typing-extensions~=3.7.4 in /usr/local/lib/python3.7/dist-packages (from tensorflow) (3.7.4.3)\n",
            "Requirement already satisfied: tensorflow-estimator<2.6.0,>=2.5.0rc0 in /usr/local/lib/python3.7/dist-packages (from tensorflow) (2.5.0)\n",
            "Requirement already satisfied: numpy~=1.19.2 in /usr/local/lib/python3.7/dist-packages (from tensorflow) (1.19.5)\n",
            "Requirement already satisfied: werkzeug>=0.11.15 in /usr/local/lib/python3.7/dist-packages (from tensorboard~=2.5->tensorflow) (2.0.0)\n",
            "Requirement already satisfied: tensorboard-data-server<0.7.0,>=0.6.0 in /usr/local/lib/python3.7/dist-packages (from tensorboard~=2.5->tensorflow) (0.6.1)\n",
            "Requirement already satisfied: setuptools>=41.0.0 in /usr/local/lib/python3.7/dist-packages (from tensorboard~=2.5->tensorflow) (56.1.0)\n",
            "Requirement already satisfied: tensorboard-plugin-wit>=1.6.0 in /usr/local/lib/python3.7/dist-packages (from tensorboard~=2.5->tensorflow) (1.8.0)\n",
            "Requirement already satisfied: google-auth-oauthlib<0.5,>=0.4.1 in /usr/local/lib/python3.7/dist-packages (from tensorboard~=2.5->tensorflow) (0.4.4)\n",
            "Requirement already satisfied: google-auth<2,>=1.6.3 in /usr/local/lib/python3.7/dist-packages (from tensorboard~=2.5->tensorflow) (1.30.0)\n",
            "Requirement already satisfied: requests<3,>=2.21.0 in /usr/local/lib/python3.7/dist-packages (from tensorboard~=2.5->tensorflow) (2.23.0)\n",
            "Requirement already satisfied: markdown>=2.6.8 in /usr/local/lib/python3.7/dist-packages (from tensorboard~=2.5->tensorflow) (3.3.4)\n",
            "Requirement already satisfied: cached-property; python_version < \"3.8\" in /usr/local/lib/python3.7/dist-packages (from h5py~=3.1.0->tensorflow) (1.5.2)\n",
            "Requirement already satisfied: requests-oauthlib>=0.7.0 in /usr/local/lib/python3.7/dist-packages (from google-auth-oauthlib<0.5,>=0.4.1->tensorboard~=2.5->tensorflow) (1.3.0)\n",
            "Requirement already satisfied: rsa<5,>=3.1.4; python_version >= \"3.6\" in /usr/local/lib/python3.7/dist-packages (from google-auth<2,>=1.6.3->tensorboard~=2.5->tensorflow) (4.7.2)\n",
            "Requirement already satisfied: pyasn1-modules>=0.2.1 in /usr/local/lib/python3.7/dist-packages (from google-auth<2,>=1.6.3->tensorboard~=2.5->tensorflow) (0.2.8)\n",
            "Requirement already satisfied: cachetools<5.0,>=2.0.0 in /usr/local/lib/python3.7/dist-packages (from google-auth<2,>=1.6.3->tensorboard~=2.5->tensorflow) (4.2.2)\n",
            "Requirement already satisfied: certifi>=2017.4.17 in /usr/local/lib/python3.7/dist-packages (from requests<3,>=2.21.0->tensorboard~=2.5->tensorflow) (2020.12.5)\n",
            "Requirement already satisfied: chardet<4,>=3.0.2 in /usr/local/lib/python3.7/dist-packages (from requests<3,>=2.21.0->tensorboard~=2.5->tensorflow) (3.0.4)\n",
            "Requirement already satisfied: urllib3!=1.25.0,!=1.25.1,<1.26,>=1.21.1 in /usr/local/lib/python3.7/dist-packages (from requests<3,>=2.21.0->tensorboard~=2.5->tensorflow) (1.24.3)\n",
            "Requirement already satisfied: idna<3,>=2.5 in /usr/local/lib/python3.7/dist-packages (from requests<3,>=2.21.0->tensorboard~=2.5->tensorflow) (2.10)\n",
            "Requirement already satisfied: importlib-metadata; python_version < \"3.8\" in /usr/local/lib/python3.7/dist-packages (from markdown>=2.6.8->tensorboard~=2.5->tensorflow) (4.0.1)\n",
            "Requirement already satisfied: oauthlib>=3.0.0 in /usr/local/lib/python3.7/dist-packages (from requests-oauthlib>=0.7.0->google-auth-oauthlib<0.5,>=0.4.1->tensorboard~=2.5->tensorflow) (3.1.0)\n",
            "Requirement already satisfied: pyasn1>=0.1.3 in /usr/local/lib/python3.7/dist-packages (from rsa<5,>=3.1.4; python_version >= \"3.6\"->google-auth<2,>=1.6.3->tensorboard~=2.5->tensorflow) (0.4.8)\n",
            "Requirement already satisfied: zipp>=0.5 in /usr/local/lib/python3.7/dist-packages (from importlib-metadata; python_version < \"3.8\"->markdown>=2.6.8->tensorboard~=2.5->tensorflow) (3.4.1)\n"
          ],
          "name": "stdout"
        }
      ]
    },
    {
      "cell_type": "code",
      "metadata": {
        "colab": {
          "base_uri": "https://localhost:8080/"
        },
        "id": "2wlfih28j6db",
        "outputId": "83689d93-e9a0-4c05-c110-09355fda3097"
      },
      "source": [
        "! pip install tensorflow --upgrade"
      ],
      "execution_count": 2,
      "outputs": [
        {
          "output_type": "stream",
          "text": [
            "Requirement already up-to-date: tensorflow in /usr/local/lib/python3.7/dist-packages (2.5.0)\n",
            "Requirement already satisfied, skipping upgrade: opt-einsum~=3.3.0 in /usr/local/lib/python3.7/dist-packages (from tensorflow) (3.3.0)\n",
            "Requirement already satisfied, skipping upgrade: tensorboard~=2.5 in /usr/local/lib/python3.7/dist-packages (from tensorflow) (2.5.0)\n",
            "Requirement already satisfied, skipping upgrade: wrapt~=1.12.1 in /usr/local/lib/python3.7/dist-packages (from tensorflow) (1.12.1)\n",
            "Requirement already satisfied, skipping upgrade: flatbuffers~=1.12.0 in /usr/local/lib/python3.7/dist-packages (from tensorflow) (1.12)\n",
            "Requirement already satisfied, skipping upgrade: wheel~=0.35 in /usr/local/lib/python3.7/dist-packages (from tensorflow) (0.36.2)\n",
            "Requirement already satisfied, skipping upgrade: keras-preprocessing~=1.1.2 in /usr/local/lib/python3.7/dist-packages (from tensorflow) (1.1.2)\n",
            "Requirement already satisfied, skipping upgrade: numpy~=1.19.2 in /usr/local/lib/python3.7/dist-packages (from tensorflow) (1.19.5)\n",
            "Requirement already satisfied, skipping upgrade: gast==0.4.0 in /usr/local/lib/python3.7/dist-packages (from tensorflow) (0.4.0)\n",
            "Requirement already satisfied, skipping upgrade: keras-nightly~=2.5.0.dev in /usr/local/lib/python3.7/dist-packages (from tensorflow) (2.5.0.dev2021032900)\n",
            "Requirement already satisfied, skipping upgrade: six~=1.15.0 in /usr/local/lib/python3.7/dist-packages (from tensorflow) (1.15.0)\n",
            "Requirement already satisfied, skipping upgrade: grpcio~=1.34.0 in /usr/local/lib/python3.7/dist-packages (from tensorflow) (1.34.1)\n",
            "Requirement already satisfied, skipping upgrade: google-pasta~=0.2 in /usr/local/lib/python3.7/dist-packages (from tensorflow) (0.2.0)\n",
            "Requirement already satisfied, skipping upgrade: absl-py~=0.10 in /usr/local/lib/python3.7/dist-packages (from tensorflow) (0.12.0)\n",
            "Requirement already satisfied, skipping upgrade: protobuf>=3.9.2 in /usr/local/lib/python3.7/dist-packages (from tensorflow) (3.12.4)\n",
            "Requirement already satisfied, skipping upgrade: termcolor~=1.1.0 in /usr/local/lib/python3.7/dist-packages (from tensorflow) (1.1.0)\n",
            "Requirement already satisfied, skipping upgrade: typing-extensions~=3.7.4 in /usr/local/lib/python3.7/dist-packages (from tensorflow) (3.7.4.3)\n",
            "Requirement already satisfied, skipping upgrade: astunparse~=1.6.3 in /usr/local/lib/python3.7/dist-packages (from tensorflow) (1.6.3)\n",
            "Requirement already satisfied, skipping upgrade: tensorflow-estimator<2.6.0,>=2.5.0rc0 in /usr/local/lib/python3.7/dist-packages (from tensorflow) (2.5.0)\n",
            "Requirement already satisfied, skipping upgrade: h5py~=3.1.0 in /usr/local/lib/python3.7/dist-packages (from tensorflow) (3.1.0)\n",
            "Requirement already satisfied, skipping upgrade: google-auth-oauthlib<0.5,>=0.4.1 in /usr/local/lib/python3.7/dist-packages (from tensorboard~=2.5->tensorflow) (0.4.4)\n",
            "Requirement already satisfied, skipping upgrade: google-auth<2,>=1.6.3 in /usr/local/lib/python3.7/dist-packages (from tensorboard~=2.5->tensorflow) (1.30.0)\n",
            "Requirement already satisfied, skipping upgrade: werkzeug>=0.11.15 in /usr/local/lib/python3.7/dist-packages (from tensorboard~=2.5->tensorflow) (2.0.0)\n",
            "Requirement already satisfied, skipping upgrade: requests<3,>=2.21.0 in /usr/local/lib/python3.7/dist-packages (from tensorboard~=2.5->tensorflow) (2.23.0)\n",
            "Requirement already satisfied, skipping upgrade: markdown>=2.6.8 in /usr/local/lib/python3.7/dist-packages (from tensorboard~=2.5->tensorflow) (3.3.4)\n",
            "Requirement already satisfied, skipping upgrade: setuptools>=41.0.0 in /usr/local/lib/python3.7/dist-packages (from tensorboard~=2.5->tensorflow) (56.1.0)\n",
            "Requirement already satisfied, skipping upgrade: tensorboard-data-server<0.7.0,>=0.6.0 in /usr/local/lib/python3.7/dist-packages (from tensorboard~=2.5->tensorflow) (0.6.1)\n",
            "Requirement already satisfied, skipping upgrade: tensorboard-plugin-wit>=1.6.0 in /usr/local/lib/python3.7/dist-packages (from tensorboard~=2.5->tensorflow) (1.8.0)\n",
            "Requirement already satisfied, skipping upgrade: cached-property; python_version < \"3.8\" in /usr/local/lib/python3.7/dist-packages (from h5py~=3.1.0->tensorflow) (1.5.2)\n",
            "Requirement already satisfied, skipping upgrade: requests-oauthlib>=0.7.0 in /usr/local/lib/python3.7/dist-packages (from google-auth-oauthlib<0.5,>=0.4.1->tensorboard~=2.5->tensorflow) (1.3.0)\n",
            "Requirement already satisfied, skipping upgrade: rsa<5,>=3.1.4; python_version >= \"3.6\" in /usr/local/lib/python3.7/dist-packages (from google-auth<2,>=1.6.3->tensorboard~=2.5->tensorflow) (4.7.2)\n",
            "Requirement already satisfied, skipping upgrade: cachetools<5.0,>=2.0.0 in /usr/local/lib/python3.7/dist-packages (from google-auth<2,>=1.6.3->tensorboard~=2.5->tensorflow) (4.2.2)\n",
            "Requirement already satisfied, skipping upgrade: pyasn1-modules>=0.2.1 in /usr/local/lib/python3.7/dist-packages (from google-auth<2,>=1.6.3->tensorboard~=2.5->tensorflow) (0.2.8)\n",
            "Requirement already satisfied, skipping upgrade: idna<3,>=2.5 in /usr/local/lib/python3.7/dist-packages (from requests<3,>=2.21.0->tensorboard~=2.5->tensorflow) (2.10)\n",
            "Requirement already satisfied, skipping upgrade: certifi>=2017.4.17 in /usr/local/lib/python3.7/dist-packages (from requests<3,>=2.21.0->tensorboard~=2.5->tensorflow) (2020.12.5)\n",
            "Requirement already satisfied, skipping upgrade: urllib3!=1.25.0,!=1.25.1,<1.26,>=1.21.1 in /usr/local/lib/python3.7/dist-packages (from requests<3,>=2.21.0->tensorboard~=2.5->tensorflow) (1.24.3)\n",
            "Requirement already satisfied, skipping upgrade: chardet<4,>=3.0.2 in /usr/local/lib/python3.7/dist-packages (from requests<3,>=2.21.0->tensorboard~=2.5->tensorflow) (3.0.4)\n",
            "Requirement already satisfied, skipping upgrade: importlib-metadata; python_version < \"3.8\" in /usr/local/lib/python3.7/dist-packages (from markdown>=2.6.8->tensorboard~=2.5->tensorflow) (4.0.1)\n",
            "Requirement already satisfied, skipping upgrade: oauthlib>=3.0.0 in /usr/local/lib/python3.7/dist-packages (from requests-oauthlib>=0.7.0->google-auth-oauthlib<0.5,>=0.4.1->tensorboard~=2.5->tensorflow) (3.1.0)\n",
            "Requirement already satisfied, skipping upgrade: pyasn1>=0.1.3 in /usr/local/lib/python3.7/dist-packages (from rsa<5,>=3.1.4; python_version >= \"3.6\"->google-auth<2,>=1.6.3->tensorboard~=2.5->tensorflow) (0.4.8)\n",
            "Requirement already satisfied, skipping upgrade: zipp>=0.5 in /usr/local/lib/python3.7/dist-packages (from importlib-metadata; python_version < \"3.8\"->markdown>=2.6.8->tensorboard~=2.5->tensorflow) (3.4.1)\n"
          ],
          "name": "stdout"
        }
      ]
    },
    {
      "cell_type": "code",
      "metadata": {
        "colab": {
          "base_uri": "https://localhost:8080/"
        },
        "id": "HwXj520tkQoB",
        "outputId": "973119ee-be22-45b8-d89f-4f8e3ea28c6c"
      },
      "source": [
        "#verify the installation\n",
        "import tensorflow as tf\n",
        "from tensorflow import keras \n",
        "from tensorflow.keras.layers import Dense\n",
        "#Check tf.keras version\n",
        "print(tf.keras.__version__)"
      ],
      "execution_count": 3,
      "outputs": [
        {
          "output_type": "stream",
          "text": [
            "2.5.0\n"
          ],
          "name": "stdout"
        }
      ]
    },
    {
      "cell_type": "markdown",
      "metadata": {
        "id": "ad7x-kTNkcIr"
      },
      "source": [
        "# **LOAD MNIST FASHION DATA and PRE-PROCESSING**"
      ]
    },
    {
      "cell_type": "code",
      "metadata": {
        "id": "tFgZ5BQ7kl8Z"
      },
      "source": [
        "fashion_mnist_data = keras.datasets.fashion_mnist\n",
        "(X_train, Y_train), (X_test, Y_test) = fashion_mnist_data.load_data()"
      ],
      "execution_count": 4,
      "outputs": []
    },
    {
      "cell_type": "code",
      "metadata": {
        "colab": {
          "base_uri": "https://localhost:8080/"
        },
        "id": "Qy2bYNdtk94P",
        "outputId": "926ee459-f82d-4089-f28f-b19c6025ed64"
      },
      "source": [
        "X_train.shape"
      ],
      "execution_count": 5,
      "outputs": [
        {
          "output_type": "execute_result",
          "data": {
            "text/plain": [
              "(60000, 28, 28)"
            ]
          },
          "metadata": {
            "tags": []
          },
          "execution_count": 5
        }
      ]
    },
    {
      "cell_type": "code",
      "metadata": {
        "colab": {
          "base_uri": "https://localhost:8080/"
        },
        "id": "ty6cv6A9lNMZ",
        "outputId": "ccaad738-f44d-4a43-8e8c-f3d307f3ee06"
      },
      "source": [
        "X_train[0].shape"
      ],
      "execution_count": 6,
      "outputs": [
        {
          "output_type": "execute_result",
          "data": {
            "text/plain": [
              "(28, 28)"
            ]
          },
          "metadata": {
            "tags": []
          },
          "execution_count": 6
        }
      ]
    },
    {
      "cell_type": "code",
      "metadata": {
        "colab": {
          "base_uri": "https://localhost:8080/",
          "height": 282
        },
        "id": "pxvPKncvlWkR",
        "outputId": "c25007a5-b4e3-49b2-dbdf-257be0c637d7"
      },
      "source": [
        "# View sample image from X_train\n",
        "\n",
        "import cv2\n",
        "import matplotlib.pyplot as plt\n",
        "\n",
        "cv2.imwrite('sample_train.jpg',X_train[0])\n",
        "sample_pic_train = cv2.imread('sample_train.jpg')\n",
        "plt.imshow(sample_pic_train)"
      ],
      "execution_count": 7,
      "outputs": [
        {
          "output_type": "execute_result",
          "data": {
            "text/plain": [
              "<matplotlib.image.AxesImage at 0x7fbeef9eead0>"
            ]
          },
          "metadata": {
            "tags": []
          },
          "execution_count": 7
        },
        {
          "output_type": "display_data",
          "data": {
            "image/png": "[encoded data removed]",
            "text/plain": [
              "<Figure size 432x288 with 1 Axes>"
            ]
          },
          "metadata": {
            "tags": [],
            "needs_background": "light"
          }
        }
      ]
    },
    {
      "cell_type": "code",
      "metadata": {
        "colab": {
          "base_uri": "https://localhost:8080/",
          "height": 282
        },
        "id": "l_P8EXrBmhEI",
        "outputId": "d09c051e-4e16-43a9-9fd4-bb68891d5d77"
      },
      "source": [
        "# View sample image from X_test\n",
        "cv2.imwrite('sample_test.jpg',X_test[0])\n",
        "sample_pic_test = cv2.imread('sample_test.jpg')\n",
        "plt.imshow(sample_pic_test)"
      ],
      "execution_count": 8,
      "outputs": [
        {
          "output_type": "execute_result",
          "data": {
            "text/plain": [
              "<matplotlib.image.AxesImage at 0x7fbeef4c7e10>"
            ]
          },
          "metadata": {
            "tags": []
          },
          "execution_count": 8
        },
        {
          "output_type": "display_data",
          "data": {
            "image/png": "[encoded data removed]",
            "text/plain": [
              "<Figure size 432x288 with 1 Axes>"
            ]
          },
          "metadata": {
            "tags": [],
            "needs_background": "light"
          }
        }
      ]
    },
    {
      "cell_type": "markdown",
      "metadata": {
        "id": "89AqxBWmmx_B"
      },
      "source": [
        "**Convert Datatype to float for processing in neural network**"
      ]
    },
    {
      "cell_type": "code",
      "metadata": {
        "id": "aiEv_YT4m4a_"
      },
      "source": [
        "X_train = X_train.astype('float32')\n",
        "X_test = X_test.astype('float32')"
      ],
      "execution_count": 9,
      "outputs": []
    },
    {
      "cell_type": "markdown",
      "metadata": {
        "id": "M7yZMruMnIu5"
      },
      "source": [
        "**Normalise data to be in range from 0 to 1 by dividing by 255**\n",
        "\n",
        "Reason - Maximum value of a pixel is 255"
      ]
    },
    {
      "cell_type": "code",
      "metadata": {
        "id": "I58dHceWnDM5"
      },
      "source": [
        "X_train = X_train/255\n",
        "X_test = X_test/255"
      ],
      "execution_count": 10,
      "outputs": []
    },
    {
      "cell_type": "markdown",
      "metadata": {
        "id": "itN0qbdtoGPd"
      },
      "source": [
        "**Flatten the data** - 28 * 28 **to** 784"
      ]
    },
    {
      "cell_type": "code",
      "metadata": {
        "colab": {
          "base_uri": "https://localhost:8080/"
        },
        "id": "N_fU5S27oSKV",
        "outputId": "e8f1b45f-b3fd-4dad-9d0c-5b9513a73090"
      },
      "source": [
        "X_train = X_train.reshape(60000,28*28)\n",
        "X_test = X_test.reshape(10000,28*28)\n",
        "\n",
        "print(X_train.shape)\n",
        "print(X_test.shape)"
      ],
      "execution_count": 11,
      "outputs": [
        {
          "output_type": "stream",
          "text": [
            "(60000, 784)\n",
            "(10000, 784)\n"
          ],
          "name": "stdout"
        }
      ]
    },
    {
      "cell_type": "markdown",
      "metadata": {
        "id": "B5h2Zwgo4Y_H"
      },
      "source": [
        "**Encode the Dependant Variable**"
      ]
    },
    {
      "cell_type": "code",
      "metadata": {
        "id": "biJ84Eax4YJI"
      },
      "source": [
        "Y_train = tf.keras.utils.to_categorical(Y_train, 10) \n",
        "Y_test = tf.keras.utils.to_categorical(Y_test, 10)"
      ],
      "execution_count": 12,
      "outputs": []
    },
    {
      "cell_type": "markdown",
      "metadata": {
        "id": "n_HYmnC8o0o2"
      },
      "source": [
        "# **Builing the Deep learning Model**"
      ]
    },
    {
      "cell_type": "code",
      "metadata": {
        "id": "dWvRiomyovAW"
      },
      "source": [
        "import tensorflow as tf\n",
        "from tensorflow.keras.layers import Dense, Dropout\n",
        "from tensorflow.keras import Sequential"
      ],
      "execution_count": 13,
      "outputs": []
    },
    {
      "cell_type": "markdown",
      "metadata": {
        "id": "Harv2i96URjI"
      },
      "source": [
        "**Singlelayer Perceptron**"
      ]
    },
    {
      "cell_type": "code",
      "metadata": {
        "id": "cEX43c9hUVI0"
      },
      "source": [
        "model_single_layer = Sequential()\n",
        "model_single_layer.add(Dense(10,input_shape=(784,),name='dense_layer', activation='softmax'))"
      ],
      "execution_count": 14,
      "outputs": []
    },
    {
      "cell_type": "code",
      "metadata": {
        "id": "b7LkJaXgUrBz"
      },
      "source": [
        "# Compile the model\n",
        "\n",
        "model_single_layer.compile(optimizer='Adam', \n",
        "              loss='categorical_crossentropy',\n",
        "              metrics=['accuracy'])"
      ],
      "execution_count": 15,
      "outputs": []
    },
    {
      "cell_type": "code",
      "metadata": {
        "colab": {
          "base_uri": "https://localhost:8080/"
        },
        "id": "mFKEX1FHVDFj",
        "outputId": "41c25f54-34d3-4e3b-c8b3-2150744e3261"
      },
      "source": [
        "# Train the model\n",
        "\n",
        "training_single_layer = model_single_layer.fit(X_train, Y_train, batch_size=128, epochs=30, validation_split=0.2)"
      ],
      "execution_count": 16,
      "outputs": [
        {
          "output_type": "stream",
          "text": [
            "Epoch 1/30\n",
            "375/375 [==============================] - 1s 2ms/step - loss: 0.7883 - accuracy: 0.7436 - val_loss: 0.5754 - val_accuracy: 0.8046\n",
            "Epoch 2/30\n",
            "375/375 [==============================] - 1s 1ms/step - loss: 0.5375 - accuracy: 0.8215 - val_loss: 0.5072 - val_accuracy: 0.8282\n",
            "Epoch 3/30\n",
            "375/375 [==============================] - 1s 1ms/step - loss: 0.4912 - accuracy: 0.8349 - val_loss: 0.4805 - val_accuracy: 0.8378\n",
            "Epoch 4/30\n",
            "375/375 [==============================] - 1s 1ms/step - loss: 0.4646 - accuracy: 0.8429 - val_loss: 0.4667 - val_accuracy: 0.8388\n",
            "Epoch 5/30\n",
            "375/375 [==============================] - 1s 2ms/step - loss: 0.4501 - accuracy: 0.8460 - val_loss: 0.4556 - val_accuracy: 0.8444\n",
            "Epoch 6/30\n",
            "375/375 [==============================] - 1s 1ms/step - loss: 0.4378 - accuracy: 0.8517 - val_loss: 0.4427 - val_accuracy: 0.8478\n",
            "Epoch 7/30\n",
            "375/375 [==============================] - 1s 1ms/step - loss: 0.4296 - accuracy: 0.8532 - val_loss: 0.4370 - val_accuracy: 0.8515\n",
            "Epoch 8/30\n",
            "375/375 [==============================] - 1s 1ms/step - loss: 0.4232 - accuracy: 0.8550 - val_loss: 0.4319 - val_accuracy: 0.8524\n",
            "Epoch 9/30\n",
            "375/375 [==============================] - 1s 1ms/step - loss: 0.4177 - accuracy: 0.8580 - val_loss: 0.4312 - val_accuracy: 0.8514\n",
            "Epoch 10/30\n",
            "375/375 [==============================] - 1s 1ms/step - loss: 0.4120 - accuracy: 0.8585 - val_loss: 0.4277 - val_accuracy: 0.8519\n",
            "Epoch 11/30\n",
            "375/375 [==============================] - 1s 1ms/step - loss: 0.4071 - accuracy: 0.8604 - val_loss: 0.4212 - val_accuracy: 0.8562\n",
            "Epoch 12/30\n",
            "375/375 [==============================] - 1s 1ms/step - loss: 0.4038 - accuracy: 0.8615 - val_loss: 0.4193 - val_accuracy: 0.8570\n",
            "Epoch 13/30\n",
            "375/375 [==============================] - 1s 1ms/step - loss: 0.4013 - accuracy: 0.8625 - val_loss: 0.4276 - val_accuracy: 0.8525\n",
            "Epoch 14/30\n",
            "375/375 [==============================] - 1s 2ms/step - loss: 0.3981 - accuracy: 0.8627 - val_loss: 0.4196 - val_accuracy: 0.8542\n",
            "Epoch 15/30\n",
            "375/375 [==============================] - 1s 1ms/step - loss: 0.3952 - accuracy: 0.8633 - val_loss: 0.4160 - val_accuracy: 0.8579\n",
            "Epoch 16/30\n",
            "375/375 [==============================] - 1s 1ms/step - loss: 0.3929 - accuracy: 0.8641 - val_loss: 0.4187 - val_accuracy: 0.8558\n",
            "Epoch 17/30\n",
            "375/375 [==============================] - 1s 1ms/step - loss: 0.3916 - accuracy: 0.8649 - val_loss: 0.4172 - val_accuracy: 0.8563\n",
            "Epoch 18/30\n",
            "375/375 [==============================] - 1s 1ms/step - loss: 0.3884 - accuracy: 0.8661 - val_loss: 0.4184 - val_accuracy: 0.8549\n",
            "Epoch 19/30\n",
            "375/375 [==============================] - 1s 1ms/step - loss: 0.3879 - accuracy: 0.8661 - val_loss: 0.4149 - val_accuracy: 0.8567\n",
            "Epoch 20/30\n",
            "375/375 [==============================] - 1s 1ms/step - loss: 0.3848 - accuracy: 0.8661 - val_loss: 0.4199 - val_accuracy: 0.8568\n",
            "Epoch 21/30\n",
            "375/375 [==============================] - 1s 1ms/step - loss: 0.3845 - accuracy: 0.8665 - val_loss: 0.4115 - val_accuracy: 0.8585\n",
            "Epoch 22/30\n",
            "375/375 [==============================] - 1s 1ms/step - loss: 0.3829 - accuracy: 0.8674 - val_loss: 0.4163 - val_accuracy: 0.8562\n",
            "Epoch 23/30\n",
            "375/375 [==============================] - 1s 1ms/step - loss: 0.3814 - accuracy: 0.8675 - val_loss: 0.4128 - val_accuracy: 0.8570\n",
            "Epoch 24/30\n",
            "375/375 [==============================] - 1s 1ms/step - loss: 0.3799 - accuracy: 0.8673 - val_loss: 0.4106 - val_accuracy: 0.8587\n",
            "Epoch 25/30\n",
            "375/375 [==============================] - 1s 1ms/step - loss: 0.3800 - accuracy: 0.8669 - val_loss: 0.4121 - val_accuracy: 0.8579\n",
            "Epoch 26/30\n",
            "375/375 [==============================] - 1s 2ms/step - loss: 0.3775 - accuracy: 0.8690 - val_loss: 0.4119 - val_accuracy: 0.8593\n",
            "Epoch 27/30\n",
            "375/375 [==============================] - 1s 1ms/step - loss: 0.3772 - accuracy: 0.8686 - val_loss: 0.4096 - val_accuracy: 0.8586\n",
            "Epoch 28/30\n",
            "375/375 [==============================] - 1s 1ms/step - loss: 0.3748 - accuracy: 0.8696 - val_loss: 0.4097 - val_accuracy: 0.8578\n",
            "Epoch 29/30\n",
            "375/375 [==============================] - 1s 1ms/step - loss: 0.3740 - accuracy: 0.8704 - val_loss: 0.4103 - val_accuracy: 0.8596\n",
            "Epoch 30/30\n",
            "375/375 [==============================] - 1s 1ms/step - loss: 0.3731 - accuracy: 0.8692 - val_loss: 0.4123 - val_accuracy: 0.8560\n"
          ],
          "name": "stdout"
        }
      ]
    },
    {
      "cell_type": "code",
      "metadata": {
        "colab": {
          "base_uri": "https://localhost:8080/"
        },
        "id": "NtHc64BYVIx8",
        "outputId": "e5238f5a-3a3b-4031-bd86-808624f2980c"
      },
      "source": [
        "test_loss_single, test_acc_single = model_single_layer.evaluate(X_test, Y_test)\n",
        "print('Test accuracy:', test_acc_single )"
      ],
      "execution_count": 17,
      "outputs": [
        {
          "output_type": "stream",
          "text": [
            "313/313 [==============================] - 0s 718us/step - loss: 0.4414 - accuracy: 0.8439\n",
            "Test accuracy: 0.8439000248908997\n"
          ],
          "name": "stdout"
        }
      ]
    },
    {
      "cell_type": "code",
      "metadata": {
        "colab": {
          "base_uri": "https://localhost:8080/",
          "height": 590
        },
        "id": "GeWA5be-XtTq",
        "outputId": "68195c61-f7d4-45a7-aed7-0c52098c120f"
      },
      "source": [
        "import matplotlib.pyplot as plt\n",
        "%matplotlib inline\n",
        "# list all data in training_single_layer\n",
        "print(training_single_layer.history.keys())\n",
        "# summarize training_single_layer for accuracy\n",
        "plt.plot(training_single_layer.history['accuracy'])\n",
        "plt.plot(training_single_layer.history['val_accuracy'])\n",
        "plt.title('model accuracy')\n",
        "plt.ylabel('accuracy')\n",
        "plt.xlabel('epoch')\n",
        "plt.legend(['train', 'test'], loc='upper left')\n",
        "plt.show()\n",
        "# summarize traning for loss\n",
        "plt.plot(training_single_layer.history['loss'])\n",
        "plt.plot(training_single_layer.history['val_loss'])\n",
        "plt.title('model loss')\n",
        "plt.ylabel('loss')\n",
        "plt.xlabel('epoch')\n",
        "plt.legend(['train', 'test'], loc='upper left')\n",
        "plt.show()"
      ],
      "execution_count": 18,
      "outputs": [
        {
          "output_type": "stream",
          "text": [
            "dict_keys(['loss', 'accuracy', 'val_loss', 'val_accuracy'])\n"
          ],
          "name": "stdout"
        },
        {
          "output_type": "display_data",
          "data": {
            "image/png": "[encoded data removed]",
            "text/plain": [
              "<Figure size 432x288 with 1 Axes>"
            ]
          },
          "metadata": {
            "tags": [],
            "needs_background": "light"
          }
        },
        {
          "output_type": "display_data",
          "data": {
            "image/png": "[encoded data removed]",
            "text/plain": [
              "<Figure size 432x288 with 1 Axes>"
            ]
          },
          "metadata": {
            "tags": [],
            "needs_background": "light"
          }
        }
      ]
    },
    {
      "cell_type": "markdown",
      "metadata": {
        "id": "MCplhynjUBzy"
      },
      "source": [
        "**Multilayer Perceptron**"
      ]
    },
    {
      "cell_type": "code",
      "metadata": {
        "id": "N-LeufTRpH4I"
      },
      "source": [
        "model_multi_layer = Sequential()\n",
        "\n",
        "# Input Layer\n",
        "model_multi_layer.add(Dense(512, input_shape = (784,),activation = 'relu', name = 'Input_Layer'))\n",
        "model_multi_layer.add(Dropout(0.4))\n",
        "\n",
        "# Hidden Layer 1\n",
        "model_multi_layer.add(Dense(512, name='Hidden_Layer_1', activation='relu'))\n",
        "model_multi_layer.add(Dropout(0.4))\n",
        "\n",
        "# Hidden Layer 2\n",
        "model_multi_layer.add(Dense(512, name='Hidden_Layer_2', activation='relu'))\n",
        "model_multi_layer.add(Dropout(0.4))\n",
        "\n",
        "# Hidden Layer 3\n",
        "model_multi_layer.add(Dense(512, name='Hidden_Layer_3', activation='relu'))\n",
        "model_multi_layer.add(Dropout(0.4))\n",
        "\n",
        "# Output Layer \n",
        "model_multi_layer.add(Dense(10,name = 'Output_Layer', activation = 'softmax'))"
      ],
      "execution_count": 19,
      "outputs": []
    },
    {
      "cell_type": "markdown",
      "metadata": {
        "id": "NLx2ezMejGpN"
      },
      "source": [
        "*Adam Optmiser*"
      ]
    },
    {
      "cell_type": "code",
      "metadata": {
        "id": "ofOSyYOMzxvP"
      },
      "source": [
        "# Compile the model with Adam\n",
        "\n",
        "model_multi_layer.compile(optimizer='Adam', \n",
        "              loss='categorical_crossentropy',\n",
        "              metrics=['accuracy'])"
      ],
      "execution_count": 20,
      "outputs": []
    },
    {
      "cell_type": "code",
      "metadata": {
        "colab": {
          "base_uri": "https://localhost:8080/"
        },
        "id": "RtvwIHcnz8v8",
        "outputId": "2f4211b4-3db0-476c-ad4c-32b7b938b939"
      },
      "source": [
        "# Train the model\n",
        "\n",
        "training_multi_layer = model_multi_layer.fit(X_train, Y_train, batch_size=128, epochs=30, validation_split=0.2)"
      ],
      "execution_count": 21,
      "outputs": [
        {
          "output_type": "stream",
          "text": [
            "Epoch 1/30\n",
            "375/375 [==============================] - 5s 13ms/step - loss: 0.7005 - accuracy: 0.7436 - val_loss: 0.4612 - val_accuracy: 0.8368\n",
            "Epoch 2/30\n",
            "375/375 [==============================] - 5s 13ms/step - loss: 0.4860 - accuracy: 0.8256 - val_loss: 0.4040 - val_accuracy: 0.8558\n",
            "Epoch 3/30\n",
            "375/375 [==============================] - 5s 13ms/step - loss: 0.4410 - accuracy: 0.8426 - val_loss: 0.3989 - val_accuracy: 0.8594\n",
            "Epoch 4/30\n",
            "375/375 [==============================] - 5s 13ms/step - loss: 0.4216 - accuracy: 0.8473 - val_loss: 0.3652 - val_accuracy: 0.8694\n",
            "Epoch 5/30\n",
            "375/375 [==============================] - 5s 13ms/step - loss: 0.4066 - accuracy: 0.8573 - val_loss: 0.3724 - val_accuracy: 0.8670\n",
            "Epoch 6/30\n",
            "375/375 [==============================] - 5s 13ms/step - loss: 0.3909 - accuracy: 0.8601 - val_loss: 0.3543 - val_accuracy: 0.8736\n",
            "Epoch 7/30\n",
            "375/375 [==============================] - 5s 13ms/step - loss: 0.3812 - accuracy: 0.8624 - val_loss: 0.3589 - val_accuracy: 0.8681\n",
            "Epoch 8/30\n",
            "375/375 [==============================] - 5s 13ms/step - loss: 0.3755 - accuracy: 0.8650 - val_loss: 0.3473 - val_accuracy: 0.8733\n",
            "Epoch 9/30\n",
            "375/375 [==============================] - 5s 13ms/step - loss: 0.3648 - accuracy: 0.8675 - val_loss: 0.3571 - val_accuracy: 0.8681\n",
            "Epoch 10/30\n",
            "375/375 [==============================] - 5s 13ms/step - loss: 0.3573 - accuracy: 0.8722 - val_loss: 0.3406 - val_accuracy: 0.8800\n",
            "Epoch 11/30\n",
            "375/375 [==============================] - 5s 13ms/step - loss: 0.3530 - accuracy: 0.8710 - val_loss: 0.3368 - val_accuracy: 0.8776\n",
            "Epoch 12/30\n",
            "375/375 [==============================] - 5s 13ms/step - loss: 0.3484 - accuracy: 0.8738 - val_loss: 0.3311 - val_accuracy: 0.8808\n",
            "Epoch 13/30\n",
            "375/375 [==============================] - 5s 13ms/step - loss: 0.3438 - accuracy: 0.8764 - val_loss: 0.3350 - val_accuracy: 0.8818\n",
            "Epoch 14/30\n",
            "375/375 [==============================] - 5s 13ms/step - loss: 0.3403 - accuracy: 0.8768 - val_loss: 0.3285 - val_accuracy: 0.8827\n",
            "Epoch 15/30\n",
            "375/375 [==============================] - 5s 13ms/step - loss: 0.3320 - accuracy: 0.8793 - val_loss: 0.3341 - val_accuracy: 0.8800\n",
            "Epoch 16/30\n",
            "375/375 [==============================] - 5s 13ms/step - loss: 0.3334 - accuracy: 0.8788 - val_loss: 0.3455 - val_accuracy: 0.8783\n",
            "Epoch 17/30\n",
            "375/375 [==============================] - 5s 13ms/step - loss: 0.3319 - accuracy: 0.8794 - val_loss: 0.3362 - val_accuracy: 0.8812\n",
            "Epoch 18/30\n",
            "375/375 [==============================] - 5s 13ms/step - loss: 0.3257 - accuracy: 0.8828 - val_loss: 0.3130 - val_accuracy: 0.8864\n",
            "Epoch 19/30\n",
            "375/375 [==============================] - 5s 13ms/step - loss: 0.3229 - accuracy: 0.8849 - val_loss: 0.3203 - val_accuracy: 0.8890\n",
            "Epoch 20/30\n",
            "375/375 [==============================] - 5s 13ms/step - loss: 0.3183 - accuracy: 0.8845 - val_loss: 0.3180 - val_accuracy: 0.8862\n",
            "Epoch 21/30\n",
            "375/375 [==============================] - 5s 13ms/step - loss: 0.3172 - accuracy: 0.8855 - val_loss: 0.3087 - val_accuracy: 0.8915\n",
            "Epoch 22/30\n",
            "375/375 [==============================] - 5s 13ms/step - loss: 0.3110 - accuracy: 0.8870 - val_loss: 0.3198 - val_accuracy: 0.8858\n",
            "Epoch 23/30\n",
            "375/375 [==============================] - 5s 13ms/step - loss: 0.3133 - accuracy: 0.8858 - val_loss: 0.3093 - val_accuracy: 0.8892\n",
            "Epoch 24/30\n",
            "375/375 [==============================] - 5s 13ms/step - loss: 0.3054 - accuracy: 0.8880 - val_loss: 0.3233 - val_accuracy: 0.8893\n",
            "Epoch 25/30\n",
            "375/375 [==============================] - 5s 13ms/step - loss: 0.3089 - accuracy: 0.8880 - val_loss: 0.3168 - val_accuracy: 0.8870\n",
            "Epoch 26/30\n",
            "375/375 [==============================] - 5s 13ms/step - loss: 0.3041 - accuracy: 0.8911 - val_loss: 0.3162 - val_accuracy: 0.8888\n",
            "Epoch 27/30\n",
            "375/375 [==============================] - 5s 13ms/step - loss: 0.3042 - accuracy: 0.8892 - val_loss: 0.3079 - val_accuracy: 0.8939\n",
            "Epoch 28/30\n",
            "375/375 [==============================] - 5s 13ms/step - loss: 0.3003 - accuracy: 0.8921 - val_loss: 0.3134 - val_accuracy: 0.8920\n",
            "Epoch 29/30\n",
            "375/375 [==============================] - 5s 13ms/step - loss: 0.2990 - accuracy: 0.8919 - val_loss: 0.3182 - val_accuracy: 0.8907\n",
            "Epoch 30/30\n",
            "375/375 [==============================] - 5s 13ms/step - loss: 0.2998 - accuracy: 0.8921 - val_loss: 0.3286 - val_accuracy: 0.8866\n"
          ],
          "name": "stdout"
        }
      ]
    },
    {
      "cell_type": "code",
      "metadata": {
        "colab": {
          "base_uri": "https://localhost:8080/"
        },
        "id": "xzaYhGxg6uOm",
        "outputId": "3e11c990-a33d-44a1-a690-5630ea2beab0"
      },
      "source": [
        "test_loss, test_acc = model_multi_layer.evaluate(X_test, Y_test)\n",
        "print('Test accuracy:', test_acc)"
      ],
      "execution_count": 22,
      "outputs": [
        {
          "output_type": "stream",
          "text": [
            "313/313 [==============================] - 1s 2ms/step - loss: 0.3488 - accuracy: 0.8807\n",
            "Test accuracy: 0.8806999921798706\n"
          ],
          "name": "stdout"
        }
      ]
    },
    {
      "cell_type": "code",
      "metadata": {
        "colab": {
          "base_uri": "https://localhost:8080/",
          "height": 590
        },
        "id": "AAsLhVteda3O",
        "outputId": "80720d5f-2846-4ffb-8f62-4439f7c63521"
      },
      "source": [
        "import matplotlib.pyplot as plt\n",
        "%matplotlib inline\n",
        "# list all data in training_multi_layer\n",
        "print(training_multi_layer.history.keys())\n",
        "# summarize training_multi_layer for accuracy\n",
        "plt.plot(training_multi_layer.history['accuracy'])\n",
        "plt.plot(training_multi_layer.history['val_accuracy'])\n",
        "plt.title('model accuracy')\n",
        "plt.ylabel('accuracy')\n",
        "plt.xlabel('epoch')\n",
        "plt.legend(['train', 'test'], loc='upper left')\n",
        "plt.show()\n",
        "# summarize traning for loss\n",
        "plt.plot(training_multi_layer.history['loss'])\n",
        "plt.plot(training_multi_layer.history['val_loss'])\n",
        "plt.title('model loss')\n",
        "plt.ylabel('loss')\n",
        "plt.xlabel('epoch')\n",
        "plt.legend(['train', 'test'], loc='upper left')\n",
        "plt.show()"
      ],
      "execution_count": 27,
      "outputs": [
        {
          "output_type": "stream",
          "text": [
            "dict_keys(['loss', 'accuracy', 'val_loss', 'val_accuracy'])\n"
          ],
          "name": "stdout"
        },
        {
          "output_type": "display_data",
          "data": {
            "image/png": "[encoded data removed]",
            "text/plain": [
              "<Figure size 432x288 with 1 Axes>"
            ]
          },
          "metadata": {
            "tags": [],
            "needs_background": "light"
          }
        },
        {
          "output_type": "display_data",
          "data": {
            "image/png": "[encoded data removed]",
            "text/plain": [
              "<Figure size 432x288 with 1 Axes>"
            ]
          },
          "metadata": {
            "tags": [],
            "needs_background": "light"
          }
        }
      ]
    },
    {
      "cell_type": "markdown",
      "metadata": {
        "id": "O4SIb_VWjNJT"
      },
      "source": [
        "*SGD Optimiser*"
      ]
    },
    {
      "cell_type": "code",
      "metadata": {
        "id": "cluCtZYvdJ1R"
      },
      "source": [
        "# Compile the model with SGD\n",
        "\n",
        "model_multi_layer.compile(optimizer='SGD', \n",
        "              loss='categorical_crossentropy',\n",
        "              metrics=['accuracy'])"
      ],
      "execution_count": 28,
      "outputs": []
    },
    {
      "cell_type": "code",
      "metadata": {
        "colab": {
          "base_uri": "https://localhost:8080/"
        },
        "id": "0wmPNtt8dYVT",
        "outputId": "8018d971-3cbe-48d2-d5b6-267a4a383573"
      },
      "source": [
        "# Train the model\n",
        "\n",
        "training_multi_layer = model_multi_layer.fit(X_train, Y_train, batch_size=128, epochs=30, validation_split=0.2)"
      ],
      "execution_count": 29,
      "outputs": [
        {
          "output_type": "stream",
          "text": [
            "Epoch 1/30\n",
            "375/375 [==============================] - 5s 13ms/step - loss: 0.2656 - accuracy: 0.9028 - val_loss: 0.2992 - val_accuracy: 0.8951\n",
            "Epoch 2/30\n",
            "375/375 [==============================] - 5s 12ms/step - loss: 0.2590 - accuracy: 0.9050 - val_loss: 0.2972 - val_accuracy: 0.8967\n",
            "Epoch 3/30\n",
            "375/375 [==============================] - 5s 12ms/step - loss: 0.2524 - accuracy: 0.9074 - val_loss: 0.2961 - val_accuracy: 0.8970\n",
            "Epoch 4/30\n",
            "375/375 [==============================] - 5s 12ms/step - loss: 0.2515 - accuracy: 0.9084 - val_loss: 0.2962 - val_accuracy: 0.8973\n",
            "Epoch 5/30\n",
            "375/375 [==============================] - 5s 12ms/step - loss: 0.2489 - accuracy: 0.9091 - val_loss: 0.2951 - val_accuracy: 0.8965\n",
            "Epoch 6/30\n",
            "375/375 [==============================] - 5s 12ms/step - loss: 0.2478 - accuracy: 0.9104 - val_loss: 0.2946 - val_accuracy: 0.8969\n",
            "Epoch 7/30\n",
            "375/375 [==============================] - 5s 12ms/step - loss: 0.2444 - accuracy: 0.9100 - val_loss: 0.2944 - val_accuracy: 0.8975\n",
            "Epoch 8/30\n",
            "375/375 [==============================] - 5s 12ms/step - loss: 0.2441 - accuracy: 0.9101 - val_loss: 0.2945 - val_accuracy: 0.8962\n",
            "Epoch 9/30\n",
            "375/375 [==============================] - 5s 12ms/step - loss: 0.2436 - accuracy: 0.9102 - val_loss: 0.2939 - val_accuracy: 0.8967\n",
            "Epoch 10/30\n",
            "375/375 [==============================] - 5s 13ms/step - loss: 0.2409 - accuracy: 0.9121 - val_loss: 0.2947 - val_accuracy: 0.8967\n",
            "Epoch 11/30\n",
            "375/375 [==============================] - 5s 12ms/step - loss: 0.2445 - accuracy: 0.9096 - val_loss: 0.2937 - val_accuracy: 0.8963\n",
            "Epoch 12/30\n",
            "375/375 [==============================] - 5s 12ms/step - loss: 0.2411 - accuracy: 0.9110 - val_loss: 0.2942 - val_accuracy: 0.8969\n",
            "Epoch 13/30\n",
            "375/375 [==============================] - 4s 12ms/step - loss: 0.2427 - accuracy: 0.9108 - val_loss: 0.2939 - val_accuracy: 0.8982\n",
            "Epoch 14/30\n",
            "375/375 [==============================] - 5s 12ms/step - loss: 0.2421 - accuracy: 0.9101 - val_loss: 0.2954 - val_accuracy: 0.8978\n",
            "Epoch 15/30\n",
            "375/375 [==============================] - 5s 12ms/step - loss: 0.2394 - accuracy: 0.9122 - val_loss: 0.2941 - val_accuracy: 0.8981\n",
            "Epoch 16/30\n",
            "375/375 [==============================] - 5s 12ms/step - loss: 0.2397 - accuracy: 0.9120 - val_loss: 0.2933 - val_accuracy: 0.8977\n",
            "Epoch 17/30\n",
            "375/375 [==============================] - 5s 12ms/step - loss: 0.2418 - accuracy: 0.9106 - val_loss: 0.2948 - val_accuracy: 0.8979\n",
            "Epoch 18/30\n",
            "375/375 [==============================] - 5s 12ms/step - loss: 0.2403 - accuracy: 0.9116 - val_loss: 0.2946 - val_accuracy: 0.8965\n",
            "Epoch 19/30\n",
            "375/375 [==============================] - 5s 12ms/step - loss: 0.2402 - accuracy: 0.9113 - val_loss: 0.2947 - val_accuracy: 0.8977\n",
            "Epoch 20/30\n",
            "375/375 [==============================] - 5s 12ms/step - loss: 0.2366 - accuracy: 0.9127 - val_loss: 0.2941 - val_accuracy: 0.8984\n",
            "Epoch 21/30\n",
            "375/375 [==============================] - 5s 12ms/step - loss: 0.2372 - accuracy: 0.9125 - val_loss: 0.2939 - val_accuracy: 0.8980\n",
            "Epoch 22/30\n",
            "375/375 [==============================] - 5s 12ms/step - loss: 0.2379 - accuracy: 0.9112 - val_loss: 0.2947 - val_accuracy: 0.8970\n",
            "Epoch 23/30\n",
            "375/375 [==============================] - 5s 12ms/step - loss: 0.2369 - accuracy: 0.9123 - val_loss: 0.2938 - val_accuracy: 0.8975\n",
            "Epoch 24/30\n",
            "375/375 [==============================] - 5s 12ms/step - loss: 0.2356 - accuracy: 0.9126 - val_loss: 0.2927 - val_accuracy: 0.8992\n",
            "Epoch 25/30\n",
            "375/375 [==============================] - 5s 12ms/step - loss: 0.2374 - accuracy: 0.9136 - val_loss: 0.2938 - val_accuracy: 0.8987\n",
            "Epoch 26/30\n",
            "375/375 [==============================] - 5s 12ms/step - loss: 0.2325 - accuracy: 0.9150 - val_loss: 0.2943 - val_accuracy: 0.8972\n",
            "Epoch 27/30\n",
            "375/375 [==============================] - 5s 12ms/step - loss: 0.2337 - accuracy: 0.9133 - val_loss: 0.2937 - val_accuracy: 0.8983\n",
            "Epoch 28/30\n",
            "375/375 [==============================] - 5s 12ms/step - loss: 0.2343 - accuracy: 0.9130 - val_loss: 0.2930 - val_accuracy: 0.8990\n",
            "Epoch 29/30\n",
            "375/375 [==============================] - 5s 12ms/step - loss: 0.2326 - accuracy: 0.9146 - val_loss: 0.2937 - val_accuracy: 0.8983\n",
            "Epoch 30/30\n",
            "375/375 [==============================] - 5s 12ms/step - loss: 0.2347 - accuracy: 0.9137 - val_loss: 0.2941 - val_accuracy: 0.8987\n"
          ],
          "name": "stdout"
        }
      ]
    },
    {
      "cell_type": "code",
      "metadata": {
        "colab": {
          "base_uri": "https://localhost:8080/"
        },
        "id": "JuOP6i7mfupt",
        "outputId": "67e62ec2-2075-419e-efd3-9e1c9ce16131"
      },
      "source": [
        "test_loss, test_acc = model_multi_layer.evaluate(X_test, Y_test)\n",
        "print('Test accuracy:', test_acc)"
      ],
      "execution_count": 30,
      "outputs": [
        {
          "output_type": "stream",
          "text": [
            "313/313 [==============================] - 1s 2ms/step - loss: 0.3168 - accuracy: 0.8928\n",
            "Test accuracy: 0.892799973487854\n"
          ],
          "name": "stdout"
        }
      ]
    },
    {
      "cell_type": "code",
      "metadata": {
        "colab": {
          "base_uri": "https://localhost:8080/",
          "height": 590
        },
        "id": "YZi1yXW38oVz",
        "outputId": "58e9416f-5c13-426e-c35a-fefba98ff597"
      },
      "source": [
        "import matplotlib.pyplot as plt\n",
        "%matplotlib inline\n",
        "# list all data in training_multi_layer\n",
        "print(training_multi_layer.history.keys())\n",
        "# summarize training_multi_layer for accuracy\n",
        "plt.plot(training_multi_layer.history['accuracy'])\n",
        "plt.plot(training_multi_layer.history['val_accuracy'])\n",
        "plt.title('model accuracy')\n",
        "plt.ylabel('accuracy')\n",
        "plt.xlabel('epoch')\n",
        "plt.legend(['train', 'test'], loc='upper left')\n",
        "plt.show()\n",
        "# summarize traning for loss\n",
        "plt.plot(training_multi_layer.history['loss'])\n",
        "plt.plot(training_multi_layer.history['val_loss'])\n",
        "plt.title('model loss')\n",
        "plt.ylabel('loss')\n",
        "plt.xlabel('epoch')\n",
        "plt.legend(['train', 'test'], loc='upper left')\n",
        "plt.show()"
      ],
      "execution_count": 31,
      "outputs": [
        {
          "output_type": "stream",
          "text": [
            "dict_keys(['loss', 'accuracy', 'val_loss', 'val_accuracy'])\n"
          ],
          "name": "stdout"
        },
        {
          "output_type": "display_data",
          "data": {
            "image/png": "[encoded data removed]",
            "text/plain": [
              "<Figure size 432x288 with 1 Axes>"
            ]
          },
          "metadata": {
            "tags": [],
            "needs_background": "light"
          }
        },
        {
          "output_type": "display_data",
          "data": {
            "image/png": "[encoded data removed]",
            "text/plain": [
              "<Figure size 432x288 with 1 Axes>"
            ]
          },
          "metadata": {
            "tags": [],
            "needs_background": "light"
          }
        }
      ]
    },
    {
      "cell_type": "markdown",
      "metadata": {
        "id": "Oo7Aj1YEjR8I"
      },
      "source": [
        "*RMSprop Optimiser*"
      ]
    },
    {
      "cell_type": "code",
      "metadata": {
        "id": "W2kaBMpPgaa1"
      },
      "source": [
        "# Compile the model with \n",
        "\n",
        "model_multi_layer.compile(optimizer='RMSprop', \n",
        "              loss='categorical_crossentropy',\n",
        "              metrics=['accuracy'])"
      ],
      "execution_count": 32,
      "outputs": []
    },
    {
      "cell_type": "code",
      "metadata": {
        "colab": {
          "base_uri": "https://localhost:8080/"
        },
        "id": "Mb3qII6ag57C",
        "outputId": "bb708cab-9236-4613-9a6b-db45035a3bf6"
      },
      "source": [
        "# Train the model\n",
        "\n",
        "training_multi_layer = model_multi_layer.fit(X_train, Y_train, batch_size=128, epochs=30, validation_split=0.2)"
      ],
      "execution_count": 33,
      "outputs": [
        {
          "output_type": "stream",
          "text": [
            "Epoch 1/30\n",
            "375/375 [==============================] - 6s 15ms/step - loss: 0.2957 - accuracy: 0.8984 - val_loss: 0.3439 - val_accuracy: 0.8916\n",
            "Epoch 2/30\n",
            "375/375 [==============================] - 5s 15ms/step - loss: 0.3063 - accuracy: 0.8970 - val_loss: 0.3601 - val_accuracy: 0.8857\n",
            "Epoch 3/30\n",
            "375/375 [==============================] - 5s 15ms/step - loss: 0.3157 - accuracy: 0.8949 - val_loss: 0.3602 - val_accuracy: 0.8911\n",
            "Epoch 4/30\n",
            "375/375 [==============================] - 5s 15ms/step - loss: 0.3219 - accuracy: 0.8950 - val_loss: 0.3976 - val_accuracy: 0.8753\n",
            "Epoch 5/30\n",
            "375/375 [==============================] - 6s 15ms/step - loss: 0.3262 - accuracy: 0.8942 - val_loss: 0.4402 - val_accuracy: 0.8874\n",
            "Epoch 6/30\n",
            "375/375 [==============================] - 6s 15ms/step - loss: 0.3328 - accuracy: 0.8944 - val_loss: 0.3896 - val_accuracy: 0.8855\n",
            "Epoch 7/30\n",
            "375/375 [==============================] - 5s 15ms/step - loss: 0.3371 - accuracy: 0.8940 - val_loss: 0.4486 - val_accuracy: 0.8858\n",
            "Epoch 8/30\n",
            "375/375 [==============================] - 5s 15ms/step - loss: 0.3426 - accuracy: 0.8925 - val_loss: 0.4395 - val_accuracy: 0.8809\n",
            "Epoch 9/30\n",
            "375/375 [==============================] - 6s 15ms/step - loss: 0.3463 - accuracy: 0.8906 - val_loss: 0.4263 - val_accuracy: 0.8903\n",
            "Epoch 10/30\n",
            "375/375 [==============================] - 6s 15ms/step - loss: 0.3554 - accuracy: 0.8925 - val_loss: 0.4412 - val_accuracy: 0.8842\n",
            "Epoch 11/30\n",
            "375/375 [==============================] - 6s 15ms/step - loss: 0.3589 - accuracy: 0.8901 - val_loss: 0.4120 - val_accuracy: 0.8867\n",
            "Epoch 12/30\n",
            "375/375 [==============================] - 6s 15ms/step - loss: 0.3611 - accuracy: 0.8891 - val_loss: 0.4606 - val_accuracy: 0.8795\n",
            "Epoch 13/30\n",
            "375/375 [==============================] - 6s 15ms/step - loss: 0.3597 - accuracy: 0.8911 - val_loss: 0.4674 - val_accuracy: 0.8815\n",
            "Epoch 14/30\n",
            "375/375 [==============================] - 6s 15ms/step - loss: 0.3854 - accuracy: 0.8870 - val_loss: 0.4591 - val_accuracy: 0.8792\n",
            "Epoch 15/30\n",
            "375/375 [==============================] - 6s 15ms/step - loss: 0.3831 - accuracy: 0.8889 - val_loss: 0.4389 - val_accuracy: 0.8832\n",
            "Epoch 16/30\n",
            "375/375 [==============================] - 5s 15ms/step - loss: 0.3807 - accuracy: 0.8881 - val_loss: 0.4358 - val_accuracy: 0.8788\n",
            "Epoch 17/30\n",
            "375/375 [==============================] - 5s 15ms/step - loss: 0.3828 - accuracy: 0.8842 - val_loss: 0.4827 - val_accuracy: 0.8683\n",
            "Epoch 18/30\n",
            "375/375 [==============================] - 5s 15ms/step - loss: 0.3873 - accuracy: 0.8861 - val_loss: 0.4749 - val_accuracy: 0.8837\n",
            "Epoch 19/30\n",
            "375/375 [==============================] - 5s 15ms/step - loss: 0.3996 - accuracy: 0.8849 - val_loss: 0.4492 - val_accuracy: 0.8792\n",
            "Epoch 20/30\n",
            "375/375 [==============================] - 5s 14ms/step - loss: 0.4118 - accuracy: 0.8845 - val_loss: 0.4547 - val_accuracy: 0.8863\n",
            "Epoch 21/30\n",
            "375/375 [==============================] - 5s 14ms/step - loss: 0.4033 - accuracy: 0.8851 - val_loss: 0.4783 - val_accuracy: 0.8759\n",
            "Epoch 22/30\n",
            "375/375 [==============================] - 6s 15ms/step - loss: 0.4252 - accuracy: 0.8845 - val_loss: 0.4474 - val_accuracy: 0.8755\n",
            "Epoch 23/30\n",
            "375/375 [==============================] - 6s 15ms/step - loss: 0.4278 - accuracy: 0.8821 - val_loss: 0.4998 - val_accuracy: 0.8788\n",
            "Epoch 24/30\n",
            "375/375 [==============================] - 6s 15ms/step - loss: 0.4274 - accuracy: 0.8814 - val_loss: 0.4872 - val_accuracy: 0.8807\n",
            "Epoch 25/30\n",
            "375/375 [==============================] - 6s 15ms/step - loss: 0.4593 - accuracy: 0.8815 - val_loss: 0.4488 - val_accuracy: 0.8767\n",
            "Epoch 26/30\n",
            "375/375 [==============================] - 5s 15ms/step - loss: 0.4232 - accuracy: 0.8824 - val_loss: 0.4663 - val_accuracy: 0.8783\n",
            "Epoch 27/30\n",
            "375/375 [==============================] - 5s 15ms/step - loss: 0.4256 - accuracy: 0.8819 - val_loss: 0.4700 - val_accuracy: 0.8856\n",
            "Epoch 28/30\n",
            "375/375 [==============================] - 6s 15ms/step - loss: 0.4492 - accuracy: 0.8813 - val_loss: 0.4851 - val_accuracy: 0.8797\n",
            "Epoch 29/30\n",
            "375/375 [==============================] - 6s 15ms/step - loss: 0.4439 - accuracy: 0.8805 - val_loss: 0.4531 - val_accuracy: 0.8854\n",
            "Epoch 30/30\n",
            "375/375 [==============================] - 6s 15ms/step - loss: 0.4475 - accuracy: 0.8810 - val_loss: 0.4788 - val_accuracy: 0.8770\n"
          ],
          "name": "stdout"
        }
      ]
    },
    {
      "cell_type": "code",
      "metadata": {
        "colab": {
          "base_uri": "https://localhost:8080/"
        },
        "id": "r8LhJ18MhloO",
        "outputId": "82d107fc-c122-4655-b7ae-b28cb1668991"
      },
      "source": [
        "test_loss_rms, test_acc_rms = model_multi_layer.evaluate(X_test, Y_test)\n",
        "print('Test accuracy:', test_acc_rms)"
      ],
      "execution_count": 34,
      "outputs": [
        {
          "output_type": "stream",
          "text": [
            "313/313 [==============================] - 1s 2ms/step - loss: 0.5191 - accuracy: 0.8714\n",
            "Test accuracy: 0.871399998664856\n"
          ],
          "name": "stdout"
        }
      ]
    },
    {
      "cell_type": "code",
      "metadata": {
        "colab": {
          "base_uri": "https://localhost:8080/",
          "height": 590
        },
        "id": "Zy7c7kujhtiW",
        "outputId": "10a45bd8-fe15-497e-d46d-ef0b30cecccd"
      },
      "source": [
        "import matplotlib.pyplot as plt\n",
        "%matplotlib inline\n",
        "# list all data in training_multi_layer\n",
        "print(training_multi_layer.history.keys())\n",
        "# summarize training_multi_layer for accuracy\n",
        "plt.plot(training_multi_layer.history['accuracy'])\n",
        "plt.plot(training_multi_layer.history['val_accuracy'])\n",
        "plt.title('model accuracy')\n",
        "plt.ylabel('accuracy')\n",
        "plt.xlabel('epoch')\n",
        "plt.legend(['train', 'test'], loc='upper left')\n",
        "plt.show()\n",
        "# summarize traning for loss\n",
        "plt.plot(training_multi_layer.history['loss'])\n",
        "plt.plot(training_multi_layer.history['val_loss'])\n",
        "plt.title('model loss')\n",
        "plt.ylabel('loss')\n",
        "plt.xlabel('epoch')\n",
        "plt.legend(['train', 'test'], loc='upper left')\n",
        "plt.show()"
      ],
      "execution_count": 35,
      "outputs": [
        {
          "output_type": "stream",
          "text": [
            "dict_keys(['loss', 'accuracy', 'val_loss', 'val_accuracy'])\n"
          ],
          "name": "stdout"
        },
        {
          "output_type": "display_data",
          "data": {
            "image/png": "[encoded data removed]",
            "text/plain": [
              "<Figure size 432x288 with 1 Axes>"
            ]
          },
          "metadata": {
            "tags": [],
            "needs_background": "light"
          }
        },
        {
          "output_type": "display_data",
          "data": {
            "image/png": "[encoded data removed]",
            "text/plain": [
              "<Figure size 432x288 with 1 Axes>"
            ]
          },
          "metadata": {
            "tags": [],
            "needs_background": "light"
          }
        }
      ]
    },
    {
      "cell_type": "markdown",
      "metadata": {
        "id": "jia41vPN8EhO"
      },
      "source": [
        "# **Summary**"
      ]
    },
    {
      "cell_type": "markdown",
      "metadata": {
        "id": "JRSPzVm68O2P"
      },
      "source": [
        "**Question - What parameters should be chosen to classify the imagesinto various categories?**\n",
        "\n",
        "Answer - \n",
        "1. Input layer with relu activation function, 512 Neurons and 40% dropouts\n",
        "2. 3 Hidden Layers with relu activation and 512 Neurons and 40% dropouts\n",
        "3. 1 Putput layer with softmax activation function and 10 Neurons\n",
        "4. Compile with Adam Optimsier and categorical crossentropy\n",
        "5. Train with batch_size=128, epochs=30, validation_split=0.2\n",
        "\n",
        "We get accuracy of .88"
      ]
    }
  ]
}