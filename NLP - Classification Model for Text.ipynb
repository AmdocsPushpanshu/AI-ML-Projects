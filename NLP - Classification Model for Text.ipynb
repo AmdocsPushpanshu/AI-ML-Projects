{
  "nbformat": 4,
  "nbformat_minor": 0,
  "metadata": {
    "colab": {
      "name": "Untitled9.ipynb",
      "provenance": [],
      "machine_shape": "hm"
    },
    "kernelspec": {
      "name": "python3",
      "display_name": "Python 3"
    },
    "language_info": {
      "name": "python"
    },
    "accelerator": "GPU"
  },
  "cells": [
    {
      "cell_type": "code",
      "metadata": {
        "colab": {
          "base_uri": "https://localhost:8080/"
        },
        "id": "s8aoYnFzVYEK",
        "outputId": "7363f0ce-7945-4fec-e65b-d6149c1cb6c2"
      },
      "source": [
        "from google.colab import drive\n",
        "drive.mount('/content/gdrive')"
      ],
      "execution_count": 2,
      "outputs": [
        {
          "output_type": "stream",
          "text": [
            "Mounted at /content/gdrive\n"
          ],
          "name": "stdout"
        }
      ]
    },
    {
      "cell_type": "code",
      "metadata": {
        "colab": {
          "base_uri": "https://localhost:8080/"
        },
        "id": "nF50B0mdVbbt",
        "outputId": "c0591155-82cd-43c9-e064-25bdfb8074ba"
      },
      "source": [
        "import nltk\n",
        "nltk.download('wordnet')\n",
        "nltk.download('stopwords')\n",
        "nltk.download('punkt')"
      ],
      "execution_count": 15,
      "outputs": [
        {
          "output_type": "stream",
          "text": [
            "[nltk_data] Downloading package wordnet to /root/nltk_data...\n",
            "[nltk_data]   Package wordnet is already up-to-date!\n",
            "[nltk_data] Downloading package stopwords to /root/nltk_data...\n",
            "[nltk_data]   Package stopwords is already up-to-date!\n",
            "[nltk_data] Downloading package punkt to /root/nltk_data...\n",
            "[nltk_data]   Unzipping tokenizers/punkt.zip.\n"
          ],
          "name": "stdout"
        },
        {
          "output_type": "execute_result",
          "data": {
            "text/plain": [
              "True"
            ]
          },
          "metadata": {
            "tags": []
          },
          "execution_count": 15
        }
      ]
    },
    {
      "cell_type": "code",
      "metadata": {
        "id": "C1RZ6T0xVsn1"
      },
      "source": [
        "import pandas as pd\n",
        "from nltk.stem import PorterStemmer\n",
        "from nltk.tokenize import word_tokenize\n",
        "\n",
        "\n",
        "def solution():\n",
        "    \n",
        "    #Read the file as a pandas data-frame\n",
        "    df = pd.read_csv('/content/gdrive/MyDrive/01 - NLP Mayank Files/Eopinions.csv')\n",
        "    #df = pd.read_csv('res/Eopinions.csv')\n",
        "    \n",
        "    ###################################################################################\n",
        "    ##############   Perform Label Encoding on ‘class’ column. ########################\n",
        "    ###################################################################################\n",
        "    from sklearn.preprocessing import LabelEncoder\n",
        "    le = LabelEncoder()\n",
        "    df['class'] = le.fit_transform(df['class'])\n",
        "    print(df.head())\n",
        "    \n",
        "    ###########################################################################################\n",
        "    ##############   Preprocess the text column        ########################################\n",
        "    ##### Here we are definining only function. We will use it together with countvectorizer #\n",
        "    ##########################################################################################\n",
        "    from nltk.stem import WordNetLemmatizer\n",
        "    from nltk.tokenize import RegexpTokenizer\n",
        "    from nltk.corpus import stopwords\n",
        "    \n",
        "    # Below function is from Edureka Sample Code - \n",
        "\n",
        "    def preprocess_text(str):\n",
        "      import re\n",
        "      # Remove URLs from the text\n",
        "      str = re.sub(r'^https?:\\/\\/.*[\\r\\n]*', '', str, flags=re.MULTILINE)\n",
        "      \n",
        "      # Remove digits\n",
        "      str = re.sub(\"\\d+\", \"\", str)\n",
        "      \n",
        "      # Remove and replace \"'\", \"--\", \"-\",\"[\",\"]\" by \" \"\n",
        "      str = re.sub(r'[\\]\\[\\-\\--\\/.\\'\\,(;:)\\\\\"!?]',r' ', str, flags=re.MULTILINE)\n",
        "      \n",
        "      # Remove non-alphabets\n",
        "      str = re.sub('[^a-zA-Z^ ]', '', str, flags=re.MULTILINE)\n",
        "      \n",
        "      # Remove stop words and stemming\n",
        "      ps = PorterStemmer()\n",
        "      stopWords = set(stopwords.words('english'))\n",
        "      words = word_tokenize(str)\n",
        "      clean_text = ''\n",
        "      for word in words:\n",
        "        if word not in stopWords:\n",
        "          # Stemming\n",
        "          word = ps.stem(word)\n",
        "          clean_text = clean_text+' '+word\n",
        "      \n",
        "      return clean_text\n",
        "    \n",
        "\n",
        "    #### Preprocess text using above function and store in original dataframe - \n",
        "    for i in range(len(df)):\n",
        "      df.loc[i, 'text'] = preprocess_text(df.loc[i, 'text'].lower())\n",
        "    \n",
        "    print(df.head())\n",
        "\n",
        "    ################################################################################################\n",
        "    #Split the dataset into 2 parts namely “train.csv” and “test.csv” having 80% and 20% of the data\n",
        "    ################################################################################################\n",
        "    from sklearn.model_selection import train_test_split\n",
        "    X = df['text']\n",
        "    y = df['class']\n",
        "    X_train_cv, X_test_cv, y_train_cv, y_test_cv = train_test_split(X,y,test_size=0.20,random_state = 42)\n",
        "    #print(X_train_cv.shape, X_test_cv.shape, y_train_cv.shape, y_test_cv.shape)\n",
        "\n",
        "    ############################################################################################################################# \n",
        "    ##############   Vectorize the text using CountVectorizer and implement RandomForectCLassifier ###############################\n",
        "    #############################################################################################################################\n",
        "    # Import module\n",
        "    from sklearn.feature_extraction.text import CountVectorizer\n",
        "    from sklearn.metrics import confusion_matrix, classification_report, accuracy_score\n",
        "    from sklearn.ensemble import RandomForestClassifier\n",
        "    from sklearn.pipeline import Pipeline\n",
        "\n",
        "    # Vectorize the text using CountVectorizer\n",
        "    model = Pipeline([('CountVectorizer', CountVectorizer(ngram_range=(1,2),max_df=0.3,min_df=7)),\n",
        "                      ('Classifier Model', RandomForestClassifier())])\n",
        "    \n",
        "    model.fit(X_train_cv, y_train_cv)\n",
        "    \n",
        "    y_pred_rf = model.predict(X_test_cv)\n",
        "    conf_mat_rf = confusion_matrix(y_test_cv, y_pred_rf)\n",
        "    print('Confusion Matrix:\\n',conf_mat_rf)"
      ],
      "execution_count": 32,
      "outputs": []
    },
    {
      "cell_type": "code",
      "metadata": {
        "colab": {
          "base_uri": "https://localhost:8080/"
        },
        "id": "Z5vBa27WV4sP",
        "outputId": "da587c36-c67e-42c0-bcaa-6892db2a1807"
      },
      "source": [
        "solution()"
      ],
      "execution_count": 33,
      "outputs": [
        {
          "output_type": "stream",
          "text": [
            "   class                                               text\n",
            "0      0   I have recently purchased a J30T with moderat...\n",
            "1      1   I bought this product because I need instant ...\n",
            "2      0   I have owned my Buick since 53000 km and I am...\n",
            "3      1   This was my first Digital camera so I did qui...\n",
            "4      1   Minolta DiMAGE 7Hi is in a digital SLR with 5...\n",
            "   class                                               text\n",
            "0      0   recent purchas jt moder mile shop car look pa...\n",
            "1      1   bought product need instant gratif stand tort...\n",
            "2      0   own buick sinc km approach must say nicest ca...\n",
            "3      1   first digit camera quit bit research unfortun...\n",
            "4      1   minolta dimag hi digit slr megapixel ccd sens...\n",
            "Confusion Matrix:\n",
            " [[46  0]\n",
            " [ 0 74]]\n"
          ],
          "name": "stdout"
        }
      ]
    }
  ]
}