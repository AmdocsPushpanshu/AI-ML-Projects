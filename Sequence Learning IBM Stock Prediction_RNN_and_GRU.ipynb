{
  "nbformat": 4,
  "nbformat_minor": 0,
  "metadata": {
    "colab": {
      "name": "SL Assignment 2 - Question 1 RNN and GRU.ipynb",
      "provenance": [],
      "machine_shape": "hm"
    },
    "kernelspec": {
      "name": "python3",
      "display_name": "Python 3"
    },
    "language_info": {
      "name": "python"
    },
    "accelerator": "GPU"
  },
  "cells": [
    {
      "cell_type": "code",
      "metadata": {
        "colab": {
          "base_uri": "https://localhost:8080/"
        },
        "id": "K3CsvRy9WWQK",
        "outputId": "2481f5e0-078d-4982-e0fc-cac56c16e0f6"
      },
      "source": [
        "from google.colab import drive\n",
        "drive.mount('/content/gdrive')"
      ],
      "execution_count": 1,
      "outputs": [
        {
          "output_type": "stream",
          "text": [
            "Drive already mounted at /content/gdrive; to attempt to forcibly remount, call drive.mount(\"/content/gdrive\", force_remount=True).\n"
          ],
          "name": "stdout"
        }
      ]
    },
    {
      "cell_type": "markdown",
      "metadata": {
        "id": "F5J--E6SfW4o"
      },
      "source": [
        "# **Load Dataset**\n",
        "\n",
        "We will use the price in Close column this project"
      ]
    },
    {
      "cell_type": "code",
      "metadata": {
        "colab": {
          "base_uri": "https://localhost:8080/"
        },
        "id": "nAt8-g2zXPW9",
        "outputId": "bd00015e-36c6-4a5a-f9ed-0e07a3bd807f"
      },
      "source": [
        "import pandas as pd\n",
        "dataset = pd.read_csv('/content/gdrive/MyDrive/Sequence Learning Assignments/IBM_2006-01-01_to_2018-01-01.csv', index_col='Date', parse_dates=['Date'])\n",
        "print(dataset.head())"
      ],
      "execution_count": 2,
      "outputs": [
        {
          "output_type": "stream",
          "text": [
            "             Open   High    Low  Close    Volume Name\n",
            "Date                                                 \n",
            "2006-01-03  82.45  82.55  80.81  82.06  11715200  IBM\n",
            "2006-01-04  82.20  82.50  81.33  81.95   9840600  IBM\n",
            "2006-01-05  81.40  82.90  81.00  82.50   7213500  IBM\n",
            "2006-01-06  83.95  85.03  83.41  84.95   8197400  IBM\n",
            "2006-01-09  84.10  84.25  83.38  83.73   6858200  IBM\n"
          ],
          "name": "stdout"
        }
      ]
    },
    {
      "cell_type": "code",
      "metadata": {
        "colab": {
          "base_uri": "https://localhost:8080/"
        },
        "id": "IdUAZo0tZW9Z",
        "outputId": "7af3d841-45f5-4786-bd11-7514e5f7f5d9"
      },
      "source": [
        "dataset.shape"
      ],
      "execution_count": 3,
      "outputs": [
        {
          "output_type": "execute_result",
          "data": {
            "text/plain": [
              "(3020, 6)"
            ]
          },
          "metadata": {
            "tags": []
          },
          "execution_count": 3
        }
      ]
    },
    {
      "cell_type": "code",
      "metadata": {
        "colab": {
          "base_uri": "https://localhost:8080/"
        },
        "id": "rnCbnStAZxE6",
        "outputId": "66f2c126-88da-41e4-85b1-4c3a07cbe039"
      },
      "source": [
        "print(type(dataset))\n",
        "print(type(dataset[:'2016']['Close']))\n",
        "print(type(dataset[:'2016']['Close'].values))"
      ],
      "execution_count": 4,
      "outputs": [
        {
          "output_type": "stream",
          "text": [
            "<class 'pandas.core.frame.DataFrame'>\n",
            "<class 'pandas.core.series.Series'>\n",
            "<class 'numpy.ndarray'>\n"
          ],
          "name": "stdout"
        }
      ]
    },
    {
      "cell_type": "markdown",
      "metadata": {
        "id": "R4CXkMbtfpNZ"
      },
      "source": [
        "# **Import Libraries**"
      ]
    },
    {
      "cell_type": "code",
      "metadata": {
        "id": "SWKCH60Jfrq2"
      },
      "source": [
        "import numpy as np\n",
        "import matplotlib.pyplot as plt\n",
        "plt.style.use('fivethirtyeight')\n",
        "import pandas as pd\n",
        "from sklearn.preprocessing import MinMaxScaler\n",
        "from keras.models import Sequential\n",
        "from keras.layers import Dense, LSTM, Dropout, GRU, Bidirectional,SimpleRNN\n",
        "from keras.optimizers import SGD\n",
        "import math\n",
        "from sklearn.metrics import mean_squared_error"
      ],
      "execution_count": 5,
      "outputs": []
    },
    {
      "cell_type": "markdown",
      "metadata": {
        "id": "NkreVpuygM7y"
      },
      "source": [
        "# **Functions to help visualize and calculate RMSE**"
      ]
    },
    {
      "cell_type": "code",
      "metadata": {
        "id": "XMONqVVpf520"
      },
      "source": [
        "def predictions_plot(test,predicted):\n",
        "    plt.plot(test, color='red',label='Real IBM Stock Price')\n",
        "    plt.plot(predicted, color='blue',label='Predicted IBM Stock Price')\n",
        "    plt.title('IBM Stock Price Prediction')\n",
        "    plt.xlabel('Time')\n",
        "    plt.ylabel('IBM Stock Price')\n",
        "    plt.legend()\n",
        "    plt.show()\n",
        "\n",
        "def rmse_return(test,predicted):\n",
        "    rmse = math.sqrt(mean_squared_error(test, predicted))\n",
        "    print(\"The root mean squared error is {}.\".format(rmse))"
      ],
      "execution_count": 6,
      "outputs": []
    },
    {
      "cell_type": "markdown",
      "metadata": {
        "id": "RGCK7q0qpM0I"
      },
      "source": [
        "# **Test and Train Dataset**"
      ]
    },
    {
      "cell_type": "code",
      "metadata": {
        "colab": {
          "base_uri": "https://localhost:8080/"
        },
        "id": "vkv-10VjpQ92",
        "outputId": "9f537985-abed-46e9-b86f-b30e67401af3"
      },
      "source": [
        "training_set = dataset[:'2014']['Close'].values.reshape(-1,1)  #taking the values from 'High' column\n",
        "test_set = dataset['2015':]['Close'].values.reshape(-1,1)\n",
        "print(training_set.shape, test_set.shape, dataset.shape)\n",
        "type(training_set), type(dataset)"
      ],
      "execution_count": 7,
      "outputs": [
        {
          "output_type": "stream",
          "text": [
            "(2265, 1) (755, 1) (3020, 6)\n"
          ],
          "name": "stdout"
        },
        {
          "output_type": "execute_result",
          "data": {
            "text/plain": [
              "(numpy.ndarray, pandas.core.frame.DataFrame)"
            ]
          },
          "metadata": {
            "tags": []
          },
          "execution_count": 7
        }
      ]
    },
    {
      "cell_type": "code",
      "metadata": {
        "colab": {
          "base_uri": "https://localhost:8080/",
          "height": 303
        },
        "id": "WSBzL1_2p3Nx",
        "outputId": "006e18aa-26bb-4152-f8e7-395fd7a888f6"
      },
      "source": [
        "# We have chosen 'High' attribute for prices. Let's see what it looks like\n",
        "dataset[\"Close\"][:'2014'].plot(figsize=(16,4),legend=True)\n",
        "dataset[\"Close\"]['2015':].plot(figsize=(16,4),legend=True)\n",
        "plt.legend(['Training set (Before 2014)','Test set (2015 and beyond)'])\n",
        "plt.title('IBM stock price')\n",
        "plt.show()"
      ],
      "execution_count": 8,
      "outputs": [
        {
          "output_type": "display_data",
          "data": {
            "image/png": "[encoded data removed]",
            "text/plain": [
              "<Figure size 1152x288 with 1 Axes>"
            ]
          },
          "metadata": {
            "tags": []
          }
        }
      ]
    },
    {
      "cell_type": "markdown",
      "metadata": {
        "id": "0PghX9lnqKZE"
      },
      "source": [
        "# **Scale the prices**"
      ]
    },
    {
      "cell_type": "code",
      "metadata": {
        "colab": {
          "base_uri": "https://localhost:8080/"
        },
        "id": "hlbg4k3IqNT2",
        "outputId": "eda790db-1c98-49b6-fac6-bbbcaebdb29a"
      },
      "source": [
        "# Scaling the training set\n",
        "sc = MinMaxScaler(feature_range=(0,1))\n",
        "training_set_scaled = sc.fit_transform(training_set)\n",
        "training_set_scaled.shape"
      ],
      "execution_count": 9,
      "outputs": [
        {
          "output_type": "execute_result",
          "data": {
            "text/plain": [
              "(2265, 1)"
            ]
          },
          "metadata": {
            "tags": []
          },
          "execution_count": 9
        }
      ]
    },
    {
      "cell_type": "code",
      "metadata": {
        "colab": {
          "base_uri": "https://localhost:8080/"
        },
        "id": "BR5RUDpuqVQm",
        "outputId": "3208d2c6-9237-4e98-adb0-ef07e14c21fa"
      },
      "source": [
        "training_set[:10]"
      ],
      "execution_count": 10,
      "outputs": [
        {
          "output_type": "execute_result",
          "data": {
            "text/plain": [
              "array([[82.06],\n",
              "       [81.95],\n",
              "       [82.5 ],\n",
              "       [84.95],\n",
              "       [83.73],\n",
              "       [84.07],\n",
              "       [84.17],\n",
              "       [83.57],\n",
              "       [83.17],\n",
              "       [83.  ]])"
            ]
          },
          "metadata": {
            "tags": []
          },
          "execution_count": 10
        }
      ]
    },
    {
      "cell_type": "code",
      "metadata": {
        "colab": {
          "base_uri": "https://localhost:8080/"
        },
        "id": "8zXGCP6TqX2y",
        "outputId": "a18b9922-9d06-47ca-f9d5-f007c78fdb94"
      },
      "source": [
        "training_set_scaled[:10]"
      ],
      "execution_count": 11,
      "outputs": [
        {
          "output_type": "execute_result",
          "data": {
            "text/plain": [
              "array([[0.07163682],\n",
              "       [0.07087325],\n",
              "       [0.0746911 ],\n",
              "       [0.0916979 ],\n",
              "       [0.08322921],\n",
              "       [0.08558934],\n",
              "       [0.08628349],\n",
              "       [0.08211856],\n",
              "       [0.07934194],\n",
              "       [0.07816188]])"
            ]
          },
          "metadata": {
            "tags": []
          },
          "execution_count": 11
        }
      ]
    },
    {
      "cell_type": "markdown",
      "metadata": {
        "id": "ue3NutYFg2G1"
      },
      "source": [
        "# **Pre-process data into required format i.e. each row will be a series of 60 timesteps to predict the proce on 61st timestep**"
      ]
    },
    {
      "cell_type": "code",
      "metadata": {
        "colab": {
          "base_uri": "https://localhost:8080/"
        },
        "id": "jfKrJArhhCWk",
        "outputId": "da8a540f-87d8-47e2-9ad5-982c5e51588a"
      },
      "source": [
        "X_train = []\n",
        "y_train = []\n",
        "train_len = len(training_set_scaled)\n",
        "for i in range(60,train_len):\n",
        "    X_train.append(training_set_scaled[i-60:i,0])\n",
        "    y_train.append(training_set_scaled[i,0])\n",
        "X_train, y_train = np.array(X_train), np.array(y_train)\n",
        "print(X_train.shape, y_train.shape)"
      ],
      "execution_count": 12,
      "outputs": [
        {
          "output_type": "stream",
          "text": [
            "(2205, 60) (2205,)\n"
          ],
          "name": "stdout"
        }
      ]
    },
    {
      "cell_type": "code",
      "metadata": {
        "colab": {
          "base_uri": "https://localhost:8080/"
        },
        "id": "Okg6FGTGrD6D",
        "outputId": "eff9b27e-541c-4db9-9487-4da3e737d79c"
      },
      "source": [
        "X_train[0]"
      ],
      "execution_count": 13,
      "outputs": [
        {
          "output_type": "execute_result",
          "data": {
            "text/plain": [
              "array([0.07163682, 0.07087325, 0.0746911 , 0.0916979 , 0.08322921,\n",
              "       0.08558934, 0.08628349, 0.08211856, 0.07934194, 0.07816188,\n",
              "       0.08829654, 0.07878662, 0.06677773, 0.06712481, 0.06323754,\n",
              "       0.06365403, 0.06233514, 0.0644176 , 0.06865195, 0.06636124,\n",
              "       0.07080383, 0.06587533, 0.05712897, 0.05393586, 0.05629599,\n",
              "       0.06289046, 0.06011384, 0.06656948, 0.0603915 , 0.06490351,\n",
              "       0.06323754, 0.06365403, 0.06226572, 0.060808  , 0.06670832,\n",
              "       0.05872553, 0.05803138, 0.0617104 , 0.05900319, 0.05664307,\n",
              "       0.05692073, 0.05705956, 0.05733722, 0.05935027, 0.06525059,\n",
              "       0.0644176 , 0.06823546, 0.07073442, 0.07732889, 0.08079967,\n",
              "       0.07725948, 0.08024434, 0.08218798, 0.08378453, 0.08822713,\n",
              "       0.07955019, 0.08066084, 0.0787172 , 0.07420519, 0.07906428])"
            ]
          },
          "metadata": {
            "tags": []
          },
          "execution_count": 13
        }
      ]
    },
    {
      "cell_type": "code",
      "metadata": {
        "colab": {
          "base_uri": "https://localhost:8080/"
        },
        "id": "lSMtAjc3rHG6",
        "outputId": "c9d998a6-9901-4e87-e3b5-66196345b3a0"
      },
      "source": [
        "y_train[0]"
      ],
      "execution_count": 14,
      "outputs": [
        {
          "output_type": "execute_result",
          "data": {
            "text/plain": [
              "0.07955018742190761"
            ]
          },
          "metadata": {
            "tags": []
          },
          "execution_count": 14
        }
      ]
    },
    {
      "cell_type": "markdown",
      "metadata": {
        "id": "OGwtpLRJrYsq"
      },
      "source": [
        "**For being used by the RNN/GRU/LSTM layers, we need the shape of X_train to be: [ batch_size, time_steps, Features ]**\n",
        "\n",
        "**We will use the full data in a single batch, so batch size will be 2205**\n",
        "**There are 60 time steps**\n",
        "**At each time step, the price is the feature, which is of 1-dimension. Compare this with a word, which can have higher dimension based on the word embedding chosen**"
      ]
    },
    {
      "cell_type": "code",
      "metadata": {
        "colab": {
          "base_uri": "https://localhost:8080/"
        },
        "id": "Rxm75Eg4rJyD",
        "outputId": "9e843b84-9b4d-4608-9ab7-dca85f0d1d6b"
      },
      "source": [
        "X_train = np.reshape(X_train, (X_train.shape[0],X_train.shape[1],1))\n",
        "print(X_train.shape)"
      ],
      "execution_count": 15,
      "outputs": [
        {
          "output_type": "stream",
          "text": [
            "(2205, 60, 1)\n"
          ],
          "name": "stdout"
        }
      ]
    },
    {
      "cell_type": "markdown",
      "metadata": {
        "id": "9uK34Tm7sWA7"
      },
      "source": [
        "# **Create the Model**"
      ]
    },
    {
      "cell_type": "code",
      "metadata": {
        "id": "jsKngPyRsk_c"
      },
      "source": [
        "model = Sequential()\n",
        "\n",
        "# Layer 1\n",
        "model.add(SimpleRNN(50, input_shape=(X_train.shape[1],1), return_sequences=True, activation='tanh'))\n",
        "model.add(Dropout(0.2))\n",
        "\n",
        "# Layer 2\n",
        "model.add(SimpleRNN(50, return_sequences=True, activation='tanh'))\n",
        "model.add(Dropout(0.2))\n",
        "\n",
        "# Layer 3\n",
        "model.add(GRU(units=50, return_sequences=True, activation='tanh'))\n",
        "model.add(Dropout(0.2))\n",
        "\n",
        "# Layer 4\n",
        "model.add(GRU(units=50, activation='tanh'))\n",
        "model.add(Dropout(0.2))\n",
        "\n",
        "# The output layer\n",
        "model.add(Dense(units=1))"
      ],
      "execution_count": 23,
      "outputs": []
    },
    {
      "cell_type": "code",
      "metadata": {
        "colab": {
          "base_uri": "https://localhost:8080/"
        },
        "id": "hLSB9jlVuohI",
        "outputId": "e5e88f5b-57d4-4473-b27d-896424fb3bc1"
      },
      "source": [
        "model.summary()"
      ],
      "execution_count": 24,
      "outputs": [
        {
          "output_type": "stream",
          "text": [
            "Model: \"sequential_1\"\n",
            "_________________________________________________________________\n",
            "Layer (type)                 Output Shape              Param #   \n",
            "=================================================================\n",
            "simple_rnn_2 (SimpleRNN)     (None, 60, 50)            2600      \n",
            "_________________________________________________________________\n",
            "dropout_4 (Dropout)          (None, 60, 50)            0         \n",
            "_________________________________________________________________\n",
            "simple_rnn_3 (SimpleRNN)     (None, 60, 50)            5050      \n",
            "_________________________________________________________________\n",
            "dropout_5 (Dropout)          (None, 60, 50)            0         \n",
            "_________________________________________________________________\n",
            "gru_2 (GRU)                  (None, 60, 50)            15300     \n",
            "_________________________________________________________________\n",
            "dropout_6 (Dropout)          (None, 60, 50)            0         \n",
            "_________________________________________________________________\n",
            "gru_3 (GRU)                  (None, 50)                15300     \n",
            "_________________________________________________________________\n",
            "dropout_7 (Dropout)          (None, 50)                0         \n",
            "_________________________________________________________________\n",
            "dense_1 (Dense)              (None, 1)                 51        \n",
            "=================================================================\n",
            "Total params: 38,301\n",
            "Trainable params: 38,301\n",
            "Non-trainable params: 0\n",
            "_________________________________________________________________\n"
          ],
          "name": "stdout"
        }
      ]
    },
    {
      "cell_type": "markdown",
      "metadata": {
        "id": "RX4iiC0mu4g0"
      },
      "source": [
        "**Train the model**"
      ]
    },
    {
      "cell_type": "code",
      "metadata": {
        "colab": {
          "base_uri": "https://localhost:8080/"
        },
        "id": "vkkfTnKsu8Jc",
        "outputId": "158b2971-5b27-45f6-e459-98e6fb5e39d3"
      },
      "source": [
        "# Compiling the GRU\n",
        "model.compile(optimizer='adam',loss='mean_squared_error')\n",
        "# Fitting to the training set\n",
        "model.fit(X_train,y_train,epochs=50,batch_size=150)"
      ],
      "execution_count": 25,
      "outputs": [
        {
          "output_type": "stream",
          "text": [
            "Epoch 1/50\n",
            "15/15 [==============================] - 9s 173ms/step - loss: 0.1638\n",
            "Epoch 2/50\n",
            "15/15 [==============================] - 3s 176ms/step - loss: 0.0227\n",
            "Epoch 3/50\n",
            "15/15 [==============================] - 3s 176ms/step - loss: 0.0153\n",
            "Epoch 4/50\n",
            "15/15 [==============================] - 3s 184ms/step - loss: 0.0105\n",
            "Epoch 5/50\n",
            "15/15 [==============================] - 3s 197ms/step - loss: 0.0101\n",
            "Epoch 6/50\n",
            "15/15 [==============================] - 3s 190ms/step - loss: 0.0081\n",
            "Epoch 7/50\n",
            "15/15 [==============================] - 3s 186ms/step - loss: 0.0078\n",
            "Epoch 8/50\n",
            "15/15 [==============================] - 3s 173ms/step - loss: 0.0070\n",
            "Epoch 9/50\n",
            "15/15 [==============================] - 3s 174ms/step - loss: 0.0067\n",
            "Epoch 10/50\n",
            "15/15 [==============================] - 3s 182ms/step - loss: 0.0064\n",
            "Epoch 11/50\n",
            "15/15 [==============================] - 3s 181ms/step - loss: 0.0060\n",
            "Epoch 12/50\n",
            "15/15 [==============================] - 3s 177ms/step - loss: 0.0059\n",
            "Epoch 13/50\n",
            "15/15 [==============================] - 3s 170ms/step - loss: 0.0056\n",
            "Epoch 14/50\n",
            "15/15 [==============================] - 3s 176ms/step - loss: 0.0051\n",
            "Epoch 15/50\n",
            "15/15 [==============================] - 3s 174ms/step - loss: 0.0050\n",
            "Epoch 16/50\n",
            "15/15 [==============================] - 3s 181ms/step - loss: 0.0045\n",
            "Epoch 17/50\n",
            "15/15 [==============================] - 3s 176ms/step - loss: 0.0052\n",
            "Epoch 18/50\n",
            "15/15 [==============================] - 3s 175ms/step - loss: 0.0044\n",
            "Epoch 19/50\n",
            "15/15 [==============================] - 3s 170ms/step - loss: 0.0042\n",
            "Epoch 20/50\n",
            "15/15 [==============================] - 3s 171ms/step - loss: 0.0049\n",
            "Epoch 21/50\n",
            "15/15 [==============================] - 3s 176ms/step - loss: 0.0041\n",
            "Epoch 22/50\n",
            "15/15 [==============================] - 3s 187ms/step - loss: 0.0043\n",
            "Epoch 23/50\n",
            "15/15 [==============================] - 3s 173ms/step - loss: 0.0041\n",
            "Epoch 24/50\n",
            "15/15 [==============================] - 3s 180ms/step - loss: 0.0040\n",
            "Epoch 25/50\n",
            "15/15 [==============================] - 3s 176ms/step - loss: 0.0040\n",
            "Epoch 26/50\n",
            "15/15 [==============================] - 3s 177ms/step - loss: 0.0044\n",
            "Epoch 27/50\n",
            "15/15 [==============================] - 3s 187ms/step - loss: 0.0046\n",
            "Epoch 28/50\n",
            "15/15 [==============================] - 3s 187ms/step - loss: 0.0037\n",
            "Epoch 29/50\n",
            "15/15 [==============================] - 3s 184ms/step - loss: 0.0040\n",
            "Epoch 30/50\n",
            "15/15 [==============================] - 3s 173ms/step - loss: 0.0032\n",
            "Epoch 31/50\n",
            "15/15 [==============================] - 3s 169ms/step - loss: 0.0035\n",
            "Epoch 32/50\n",
            "15/15 [==============================] - 3s 177ms/step - loss: 0.0033\n",
            "Epoch 33/50\n",
            "15/15 [==============================] - 3s 176ms/step - loss: 0.0037\n",
            "Epoch 34/50\n",
            "15/15 [==============================] - 3s 178ms/step - loss: 0.0034\n",
            "Epoch 35/50\n",
            "15/15 [==============================] - 3s 186ms/step - loss: 0.0032\n",
            "Epoch 36/50\n",
            "15/15 [==============================] - 3s 177ms/step - loss: 0.0030\n",
            "Epoch 37/50\n",
            "15/15 [==============================] - 3s 172ms/step - loss: 0.0030\n",
            "Epoch 38/50\n",
            "15/15 [==============================] - 3s 175ms/step - loss: 0.0030\n",
            "Epoch 39/50\n",
            "15/15 [==============================] - 3s 180ms/step - loss: 0.0030\n",
            "Epoch 40/50\n",
            "15/15 [==============================] - 3s 181ms/step - loss: 0.0031\n",
            "Epoch 41/50\n",
            "15/15 [==============================] - 3s 180ms/step - loss: 0.0032\n",
            "Epoch 42/50\n",
            "15/15 [==============================] - 3s 178ms/step - loss: 0.0033\n",
            "Epoch 43/50\n",
            "15/15 [==============================] - 3s 180ms/step - loss: 0.0031\n",
            "Epoch 44/50\n",
            "15/15 [==============================] - 3s 185ms/step - loss: 0.0030\n",
            "Epoch 45/50\n",
            "15/15 [==============================] - 3s 182ms/step - loss: 0.0032\n",
            "Epoch 46/50\n",
            "15/15 [==============================] - 3s 186ms/step - loss: 0.0027\n",
            "Epoch 47/50\n",
            "15/15 [==============================] - 3s 184ms/step - loss: 0.0030\n",
            "Epoch 48/50\n",
            "15/15 [==============================] - 3s 189ms/step - loss: 0.0029\n",
            "Epoch 49/50\n",
            "15/15 [==============================] - 3s 205ms/step - loss: 0.0029\n",
            "Epoch 50/50\n",
            "15/15 [==============================] - 3s 199ms/step - loss: 0.0030\n"
          ],
          "name": "stdout"
        },
        {
          "output_type": "execute_result",
          "data": {
            "text/plain": [
              "<keras.callbacks.History at 0x7fddf83df790>"
            ]
          },
          "metadata": {
            "tags": []
          },
          "execution_count": 25
        }
      ]
    },
    {
      "cell_type": "markdown",
      "metadata": {
        "id": "v0vtVdbLv_Ha"
      },
      "source": [
        "**Test the model**\n",
        "\n",
        "For test_data first record, we need 60 timesteps before that as well"
      ]
    },
    {
      "cell_type": "code",
      "metadata": {
        "colab": {
          "base_uri": "https://localhost:8080/"
        },
        "id": "Ow67BWL3wEFy",
        "outputId": "e8ea5db6-339f-427f-a373-10453ffba993"
      },
      "source": [
        "dataset_total = dataset[\"Close\"]\n",
        "inputs = dataset_total[len(dataset_total)-len(test_set) - 60:].values ## last 60 values of train_data + all values of test_data\n",
        "print(len(dataset_total), len(test_set))\n",
        "print(inputs.shape)\n",
        "inputs = inputs.reshape(-1,1)\n",
        "print(inputs.shape)\n",
        "inputs  = sc.transform(inputs)"
      ],
      "execution_count": 26,
      "outputs": [
        {
          "output_type": "stream",
          "text": [
            "3020 755\n",
            "(815,)\n",
            "(815, 1)\n"
          ],
          "name": "stdout"
        }
      ]
    },
    {
      "cell_type": "code",
      "metadata": {
        "colab": {
          "base_uri": "https://localhost:8080/"
        },
        "id": "PwTug9Dow_OC",
        "outputId": "ebc36020-339e-406c-af13-77f7eabcadf4"
      },
      "source": [
        "# Preparing X_test and predicting the prices\n",
        "X_test = []\n",
        "for i in range(60,len(inputs)):\n",
        "    X_test.append(inputs[i-60:i,0])\n",
        "X_test = np.array(X_test)\n",
        "print(X_test.shape)\n",
        "#X_test = np.reshape(X_test, (X_test.shape[0],X_test.shape[1],1))\n",
        "X_test = np.expand_dims(X_test, 2)\n",
        "print(X_test.shape)"
      ],
      "execution_count": 27,
      "outputs": [
        {
          "output_type": "stream",
          "text": [
            "(755, 60)\n",
            "(755, 60, 1)\n"
          ],
          "name": "stdout"
        }
      ]
    },
    {
      "cell_type": "code",
      "metadata": {
        "colab": {
          "base_uri": "https://localhost:8080/"
        },
        "id": "8vbN43SSxEsk",
        "outputId": "393c1e8c-f3aa-401c-f271-3e1e665f5e70"
      },
      "source": [
        "predicted_stock_price = model.predict(X_test)\n",
        "print(predicted_stock_price.shape)\n",
        "predicted_stock_price = sc.inverse_transform(predicted_stock_price)\n",
        "print(predicted_stock_price.shape)"
      ],
      "execution_count": 28,
      "outputs": [
        {
          "output_type": "stream",
          "text": [
            "(755, 1)\n",
            "(755, 1)\n"
          ],
          "name": "stdout"
        }
      ]
    },
    {
      "cell_type": "code",
      "metadata": {
        "colab": {
          "base_uri": "https://localhost:8080/",
          "height": 324
        },
        "id": "B92XTGXQyB_J",
        "outputId": "d4688d31-dfcd-4010-fb54-1c402691ab75"
      },
      "source": [
        "# Visualizing the results for GRU\n",
        "predictions_plot(test_set,predicted_stock_price)"
      ],
      "execution_count": 29,
      "outputs": [
        {
          "output_type": "display_data",
          "data": {
            "image/png": "[encoded data removed]",
            "text/plain": [
              "<Figure size 432x288 with 1 Axes>"
            ]
          },
          "metadata": {
            "tags": []
          }
        }
      ]
    },
    {
      "cell_type": "markdown",
      "metadata": {
        "id": "QIURG9SK-d_K"
      },
      "source": [
        "**Evaluate Model**"
      ]
    },
    {
      "cell_type": "code",
      "metadata": {
        "colab": {
          "base_uri": "https://localhost:8080/"
        },
        "id": "It1wv-EA-bjH",
        "outputId": "c6c8ecac-6fa6-4935-847c-a70bf5f38f59"
      },
      "source": [
        "rmse_return(test_set,predicted_stock_price)"
      ],
      "execution_count": 30,
      "outputs": [
        {
          "output_type": "stream",
          "text": [
            "The root mean squared error is 3.370815961549598.\n"
          ],
          "name": "stdout"
        }
      ]
    }
  ]
}