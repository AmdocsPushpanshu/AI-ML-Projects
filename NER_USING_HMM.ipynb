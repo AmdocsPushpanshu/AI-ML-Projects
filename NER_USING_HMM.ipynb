{
  "nbformat": 4,
  "nbformat_minor": 0,
  "metadata": {
    "colab": {
      "name": "Sequence Learning Assignment 1 - Question 1.ipynb",
      "provenance": [],
      "collapsed_sections": [],
      "machine_shape": "hm"
    },
    "kernelspec": {
      "name": "python3",
      "display_name": "Python 3"
    },
    "language_info": {
      "name": "python"
    },
    "accelerator": "GPU"
  },
  "cells": [
    {
      "cell_type": "code",
      "metadata": {
        "colab": {
          "base_uri": "https://localhost:8080/",
          "height": 477
        },
        "id": "vbQAv2DfDCWH",
        "outputId": "836a18bb-4b69-41ae-b869-a9aa9313a96a"
      },
      "source": [
        "! pip install pomegranate"
      ],
      "execution_count": 2,
      "outputs": [
        {
          "output_type": "stream",
          "text": [
            "Collecting pomegranate\n",
            "  Downloading pomegranate-0.14.5-cp37-cp37m-manylinux2010_x86_64.whl (17.9 MB)\n",
            "\u001b[K     |████████████████████████████████| 17.9 MB 45.0 MB/s \n",
            "\u001b[?25hCollecting numpy>=1.20.0\n",
            "  Downloading numpy-1.21.1-cp37-cp37m-manylinux_2_12_x86_64.manylinux2010_x86_64.whl (15.7 MB)\n",
            "\u001b[K     |████████████████████████████████| 15.7 MB 128 kB/s \n",
            "\u001b[?25hRequirement already satisfied: pyyaml in /usr/local/lib/python3.7/dist-packages (from pomegranate) (3.13)\n",
            "Requirement already satisfied: networkx>=2.4 in /usr/local/lib/python3.7/dist-packages (from pomegranate) (2.5.1)\n",
            "Requirement already satisfied: scipy>=0.17.0 in /usr/local/lib/python3.7/dist-packages (from pomegranate) (1.4.1)\n",
            "Requirement already satisfied: joblib>=0.9.0b4 in /usr/local/lib/python3.7/dist-packages (from pomegranate) (1.0.1)\n",
            "Requirement already satisfied: decorator<5,>=4.3 in /usr/local/lib/python3.7/dist-packages (from networkx>=2.4->pomegranate) (4.4.2)\n",
            "Installing collected packages: numpy, pomegranate\n",
            "  Attempting uninstall: numpy\n",
            "    Found existing installation: numpy 1.19.5\n",
            "    Uninstalling numpy-1.19.5:\n",
            "      Successfully uninstalled numpy-1.19.5\n",
            "\u001b[31mERROR: pip's dependency resolver does not currently take into account all the packages that are installed. This behaviour is the source of the following dependency conflicts.\n",
            "tensorflow 2.5.0 requires numpy~=1.19.2, but you have numpy 1.21.1 which is incompatible.\n",
            "datascience 0.10.6 requires folium==0.2.1, but you have folium 0.8.3 which is incompatible.\n",
            "albumentations 0.1.12 requires imgaug<0.2.7,>=0.2.5, but you have imgaug 0.2.9 which is incompatible.\u001b[0m\n",
            "Successfully installed numpy-1.21.1 pomegranate-0.14.5\n"
          ],
          "name": "stdout"
        },
        {
          "output_type": "display_data",
          "data": {
            "application/vnd.colab-display-data+json": {
              "pip_warning": {
                "packages": [
                  "numpy"
                ]
              }
            }
          },
          "metadata": {
            "tags": []
          }
        }
      ]
    },
    {
      "cell_type": "code",
      "metadata": {
        "colab": {
          "base_uri": "https://localhost:8080/"
        },
        "id": "evwsHl4KDJrd",
        "outputId": "038b99de-6374-43c2-a602-f8ef3348278b"
      },
      "source": [
        "from google.colab import drive\n",
        "drive.mount('/content/gdrive')"
      ],
      "execution_count": 1,
      "outputs": [
        {
          "output_type": "stream",
          "text": [
            "Drive already mounted at /content/gdrive; to attempt to forcibly remount, call drive.mount(\"/content/gdrive\", force_remount=True).\n"
          ],
          "name": "stdout"
        }
      ]
    },
    {
      "cell_type": "code",
      "metadata": {
        "id": "H19RkQSKz3ER"
      },
      "source": [
        "from collections import Counter, defaultdict,namedtuple"
      ],
      "execution_count": 2,
      "outputs": []
    },
    {
      "cell_type": "markdown",
      "metadata": {
        "id": "xgfYOXl4wBJq"
      },
      "source": [
        "# **Handling the file and converting them to lists of words and NER Tags**"
      ]
    },
    {
      "cell_type": "markdown",
      "metadata": {
        "id": "B6V2lupsuQFm"
      },
      "source": [
        "**Read the Sentences file and words in a list**"
      ]
    },
    {
      "cell_type": "code",
      "metadata": {
        "colab": {
          "base_uri": "https://localhost:8080/"
        },
        "id": "Unb3Ko5TuWZR",
        "outputId": "cf57d6aa-9c6c-47ee-ad1f-5bfb8ec1dd70"
      },
      "source": [
        "my_str = ''\n",
        "with open('/content/gdrive/MyDrive/Sequence Learning Assignments/HMM_Train_Sentences.txt','r') as myfile:\n",
        "  my_str = myfile.read()\n",
        "\n",
        "my_sentences = my_str.splitlines()\n",
        "\n",
        "my_word_list = []\n",
        "for str in my_sentences:\n",
        "  my_word_list = my_word_list + str.split()\n",
        "\n",
        "print(len(my_word_list))"
      ],
      "execution_count": 3,
      "outputs": [
        {
          "output_type": "stream",
          "text": [
            "38\n"
          ],
          "name": "stdout"
        }
      ]
    },
    {
      "cell_type": "code",
      "metadata": {
        "colab": {
          "base_uri": "https://localhost:8080/"
        },
        "id": "IwVBTHhuE3ow",
        "outputId": "5dfcaa59-fdad-4439-c58c-892a599ab215"
      },
      "source": [
        "my_word_list"
      ],
      "execution_count": 22,
      "outputs": [
        {
          "output_type": "execute_result",
          "data": {
            "text/plain": [
              "['Bailey',\n",
              " 'named',\n",
              " 'Australia',\n",
              " 'captain',\n",
              " 'Starc',\n",
              " 'player',\n",
              " 'of',\n",
              " '2015',\n",
              " 'World',\n",
              " 'Cup',\n",
              " 'Australia',\n",
              " 'won',\n",
              " '2003',\n",
              " '2007',\n",
              " '2015',\n",
              " 'Cups',\n",
              " 'Melbourne',\n",
              " 'Starc',\n",
              " 'Warner',\n",
              " 'knocks',\n",
              " 'etched',\n",
              " 'in',\n",
              " 'memory',\n",
              " '2003',\n",
              " 'SA',\n",
              " '2007',\n",
              " 'WI',\n",
              " '2015',\n",
              " 'Australia',\n",
              " 'were',\n",
              " 'venues',\n",
              " 'Starc',\n",
              " 'Warner',\n",
              " 'Melbourne',\n",
              " 'go',\n",
              " 'as',\n",
              " 'great',\n",
              " 'combination']"
            ]
          },
          "metadata": {
            "tags": []
          },
          "execution_count": 22
        }
      ]
    },
    {
      "cell_type": "markdown",
      "metadata": {
        "id": "sNMNDKqhwR7-"
      },
      "source": [
        "**Read the NER file and store NER Tags in a list**"
      ]
    },
    {
      "cell_type": "code",
      "metadata": {
        "colab": {
          "base_uri": "https://localhost:8080/"
        },
        "id": "0HJHzAPWwQ2f",
        "outputId": "20551407-b432-4928-c34a-ba2726a95294"
      },
      "source": [
        "my_ner = ''\n",
        "with open('/content/gdrive/MyDrive/Sequence Learning Assignments/HMM_Train_NER.txt','r') as myfile:\n",
        "  my_ner = myfile.read()\n",
        "\n",
        "my_ner_sent = my_ner.splitlines()\n",
        "\n",
        "my_ner_list = []\n",
        "for str in my_ner_sent:\n",
        "  my_ner_list = my_ner_list + str.split()\n",
        "\n",
        "print(len(my_ner_list))"
      ],
      "execution_count": 4,
      "outputs": [
        {
          "output_type": "stream",
          "text": [
            "38\n"
          ],
          "name": "stdout"
        }
      ]
    },
    {
      "cell_type": "code",
      "metadata": {
        "colab": {
          "base_uri": "https://localhost:8080/"
        },
        "id": "5mIywY2EE2Fv",
        "outputId": "87758d83-e31f-42d6-8731-3c29f3f49e00"
      },
      "source": [
        "my_ner_list"
      ],
      "execution_count": 23,
      "outputs": [
        {
          "output_type": "execute_result",
          "data": {
            "text/plain": [
              "['PER',\n",
              " 'O',\n",
              " 'GEO',\n",
              " 'O',\n",
              " 'PER',\n",
              " 'O',\n",
              " 'O',\n",
              " 'TIM',\n",
              " 'O',\n",
              " 'O',\n",
              " 'GEO',\n",
              " 'O',\n",
              " 'TIM',\n",
              " 'TIM',\n",
              " 'TIM',\n",
              " 'O',\n",
              " 'GEO',\n",
              " 'PER',\n",
              " 'PER',\n",
              " 'O',\n",
              " 'O',\n",
              " 'O',\n",
              " 'O',\n",
              " 'TIM',\n",
              " 'GEO',\n",
              " 'TIM',\n",
              " 'GEO',\n",
              " 'TIM',\n",
              " 'GEO',\n",
              " 'O',\n",
              " 'O',\n",
              " 'PER',\n",
              " 'PER',\n",
              " 'GEO',\n",
              " 'O',\n",
              " 'O',\n",
              " 'O',\n",
              " 'O']"
            ]
          },
          "metadata": {
            "tags": []
          },
          "execution_count": 23
        }
      ]
    },
    {
      "cell_type": "code",
      "metadata": {
        "colab": {
          "base_uri": "https://localhost:8080/",
          "height": 35
        },
        "id": "cZ2k6dbZFFgw",
        "outputId": "839dc0ca-5913-4330-f2f3-5ca6583521a9"
      },
      "source": [
        "my_ner"
      ],
      "execution_count": 24,
      "outputs": [
        {
          "output_type": "execute_result",
          "data": {
            "application/vnd.google.colaboratory.intrinsic+json": {
              "type": "string"
            },
            "text/plain": [
              "'PER O GEO O\\nPER O O TIM O O\\nGEO O TIM TIM TIM O\\nGEO PER PER O O O O\\nTIM GEO TIM GEO TIM GEO O O\\nPER PER GEO O O O O'"
            ]
          },
          "metadata": {
            "tags": []
          },
          "execution_count": 24
        }
      ]
    },
    {
      "cell_type": "markdown",
      "metadata": {
        "id": "04lz91MqyIPr"
      },
      "source": [
        "# **Create start and end NER POS list**"
      ]
    },
    {
      "cell_type": "code",
      "metadata": {
        "colab": {
          "base_uri": "https://localhost:8080/"
        },
        "id": "BU8J099PyLSf",
        "outputId": "d1d77b86-903d-4bf1-986a-c6429ec726ab"
      },
      "source": [
        "start_POS_list = []\n",
        "end_POS_list = []\n",
        "\n",
        "for str in my_ner_sent:\n",
        "  start_POS_list.append(str.split()[0])\n",
        "  end_POS_list.append(str.split()[-1])\n",
        "\n",
        "print(my_ner_sent)\n",
        "print(start_POS_list)\n",
        "print(end_POS_list)"
      ],
      "execution_count": 5,
      "outputs": [
        {
          "output_type": "stream",
          "text": [
            "['PER O GEO O', 'PER O O TIM O O', 'GEO O TIM TIM TIM O', 'GEO PER PER O O O O', 'TIM GEO TIM GEO TIM GEO O O', 'PER PER GEO O O O O']\n",
            "['PER', 'PER', 'GEO', 'GEO', 'TIM', 'PER']\n",
            "['O', 'O', 'O', 'O', 'O', 'O']\n"
          ],
          "name": "stdout"
        }
      ]
    },
    {
      "cell_type": "code",
      "metadata": {
        "id": "3DTeyToiF5CP"
      },
      "source": [
        "# Function to count POS\n",
        "def POS_counts(sequences):\n",
        "    \n",
        "    n = Counter(sequences)\n",
        "    return n"
      ],
      "execution_count": 25,
      "outputs": []
    },
    {
      "cell_type": "code",
      "metadata": {
        "colab": {
          "base_uri": "https://localhost:8080/"
        },
        "id": "rzBMi10NFrAK",
        "outputId": "3e063159-d27c-4828-e8d5-bdedecb0e846"
      },
      "source": [
        "start_POS_count = POS_counts(start_POS_list)\n",
        "start_POS_count"
      ],
      "execution_count": 26,
      "outputs": [
        {
          "output_type": "execute_result",
          "data": {
            "text/plain": [
              "Counter({'GEO': 2, 'PER': 3, 'TIM': 1})"
            ]
          },
          "metadata": {
            "tags": []
          },
          "execution_count": 26
        }
      ]
    },
    {
      "cell_type": "code",
      "metadata": {
        "colab": {
          "base_uri": "https://localhost:8080/"
        },
        "id": "zNe1xSXrGGuo",
        "outputId": "83486ac0-0a14-4c8e-b48f-7e43ffa136c1"
      },
      "source": [
        "end_POS_count = POS_counts(end_POS_list)\n",
        "end_POS_count"
      ],
      "execution_count": 27,
      "outputs": [
        {
          "output_type": "execute_result",
          "data": {
            "text/plain": [
              "Counter({'O': 6})"
            ]
          },
          "metadata": {
            "tags": []
          },
          "execution_count": 27
        }
      ]
    },
    {
      "cell_type": "markdown",
      "metadata": {
        "id": "1ECUz0YJzpOA"
      },
      "source": [
        "# **Create Unigram and Bigrams for NER tags**"
      ]
    },
    {
      "cell_type": "code",
      "metadata": {
        "id": "0NsuZkByzuZT"
      },
      "source": [
        "# Count of unigrams - how many times each POS is occuring\n",
        "def unigram_token(sequences):\n",
        "    return Counter(sequences)"
      ],
      "execution_count": 6,
      "outputs": []
    },
    {
      "cell_type": "code",
      "metadata": {
        "colab": {
          "base_uri": "https://localhost:8080/"
        },
        "id": "pXn8R47-0eCI",
        "outputId": "6a7688cf-fdec-4586-f2db-8506175c6cfd"
      },
      "source": [
        "POS_count_ug = unigram_token(my_ner_list)\n",
        "POS_count_ug"
      ],
      "execution_count": 29,
      "outputs": [
        {
          "output_type": "execute_result",
          "data": {
            "text/plain": [
              "Counter({'GEO': 7, 'O': 18, 'PER': 6, 'TIM': 7})"
            ]
          },
          "metadata": {
            "tags": []
          },
          "execution_count": 29
        }
      ]
    },
    {
      "cell_type": "code",
      "metadata": {
        "id": "DLEIeYeT0lH9"
      },
      "source": [
        "# Count of bigrams - how many times each pair of POS is occuring\n",
        "def bigram_token(sequences):\n",
        "    d = Counter(sequences)\n",
        "    return d"
      ],
      "execution_count": 10,
      "outputs": []
    },
    {
      "cell_type": "code",
      "metadata": {
        "colab": {
          "base_uri": "https://localhost:8080/"
        },
        "id": "63SlKKeh03tz",
        "outputId": "8f4a98cc-400a-4599-9b7f-caf07e94fe1d"
      },
      "source": [
        "range_index = [(my_ner_list[i],my_ner_list[i+1]) for i in range(0,len(my_ner_list)-2,1)]\n",
        "\n",
        "print(my_ner_sent)\n",
        "range_index"
      ],
      "execution_count": 11,
      "outputs": [
        {
          "output_type": "stream",
          "text": [
            "['PER O GEO O', 'PER O O TIM O O', 'GEO O TIM TIM TIM O', 'GEO PER PER O O O O', 'TIM GEO TIM GEO TIM GEO O O', 'PER PER GEO O O O O']\n"
          ],
          "name": "stdout"
        },
        {
          "output_type": "execute_result",
          "data": {
            "text/plain": [
              "[('PER', 'O'),\n",
              " ('O', 'GEO'),\n",
              " ('GEO', 'O'),\n",
              " ('O', 'PER'),\n",
              " ('PER', 'O'),\n",
              " ('O', 'O'),\n",
              " ('O', 'TIM'),\n",
              " ('TIM', 'O'),\n",
              " ('O', 'O'),\n",
              " ('O', 'GEO'),\n",
              " ('GEO', 'O'),\n",
              " ('O', 'TIM'),\n",
              " ('TIM', 'TIM'),\n",
              " ('TIM', 'TIM'),\n",
              " ('TIM', 'O'),\n",
              " ('O', 'GEO'),\n",
              " ('GEO', 'PER'),\n",
              " ('PER', 'PER'),\n",
              " ('PER', 'O'),\n",
              " ('O', 'O'),\n",
              " ('O', 'O'),\n",
              " ('O', 'O'),\n",
              " ('O', 'TIM'),\n",
              " ('TIM', 'GEO'),\n",
              " ('GEO', 'TIM'),\n",
              " ('TIM', 'GEO'),\n",
              " ('GEO', 'TIM'),\n",
              " ('TIM', 'GEO'),\n",
              " ('GEO', 'O'),\n",
              " ('O', 'O'),\n",
              " ('O', 'PER'),\n",
              " ('PER', 'PER'),\n",
              " ('PER', 'GEO'),\n",
              " ('GEO', 'O'),\n",
              " ('O', 'O'),\n",
              " ('O', 'O')]"
            ]
          },
          "metadata": {
            "tags": []
          },
          "execution_count": 11
        }
      ]
    },
    {
      "cell_type": "code",
      "metadata": {
        "colab": {
          "base_uri": "https://localhost:8080/"
        },
        "id": "3XyXdYCq1PT4",
        "outputId": "52b0ec89-2d6c-4d67-dd63-c7a853d96988"
      },
      "source": [
        "POS_count_bg = bigram_token(range_index)\n",
        "POS_count_bg"
      ],
      "execution_count": 13,
      "outputs": [
        {
          "output_type": "execute_result",
          "data": {
            "text/plain": [
              "Counter({('GEO', 'O'): 4,\n",
              "         ('GEO', 'PER'): 1,\n",
              "         ('GEO', 'TIM'): 2,\n",
              "         ('O', 'GEO'): 3,\n",
              "         ('O', 'O'): 8,\n",
              "         ('O', 'PER'): 2,\n",
              "         ('O', 'TIM'): 3,\n",
              "         ('PER', 'GEO'): 1,\n",
              "         ('PER', 'O'): 3,\n",
              "         ('PER', 'PER'): 2,\n",
              "         ('TIM', 'GEO'): 3,\n",
              "         ('TIM', 'O'): 2,\n",
              "         ('TIM', 'TIM'): 2})"
            ]
          },
          "metadata": {
            "tags": []
          },
          "execution_count": 13
        }
      ]
    },
    {
      "cell_type": "markdown",
      "metadata": {
        "id": "XiEQYoun1cWP"
      },
      "source": [
        "# **Ner Word Count**"
      ]
    },
    {
      "cell_type": "code",
      "metadata": {
        "id": "PaEcpNUE15QW"
      },
      "source": [
        "# Build a dictionary with each POS and words associated with those POS\n",
        "def POS_word_count(POS, words):\n",
        "    dDict = defaultdict(lambda: defaultdict(int))\n",
        "    for POS, word in zip(POS, words):\n",
        "        dDict[POS][word] += 1\n",
        "        \n",
        "    return dDict"
      ],
      "execution_count": 14,
      "outputs": []
    },
    {
      "cell_type": "code",
      "metadata": {
        "colab": {
          "base_uri": "https://localhost:8080/"
        },
        "id": "0mlrtM_K2KjJ",
        "outputId": "d9ff2eac-d0b5-4c90-dc2f-3dd5898701e9"
      },
      "source": [
        "POS_words_count=POS_word_count(my_ner_list,my_word_list)\n",
        "POS_words_count"
      ],
      "execution_count": 15,
      "outputs": [
        {
          "output_type": "execute_result",
          "data": {
            "text/plain": [
              "defaultdict(<function __main__.POS_word_count.<locals>.<lambda>>,\n",
              "            {'GEO': defaultdict(int,\n",
              "                         {'Australia': 3, 'Melbourne': 2, 'SA': 1, 'WI': 1}),\n",
              "             'O': defaultdict(int,\n",
              "                         {'Cup': 1,\n",
              "                          'Cups': 1,\n",
              "                          'World': 1,\n",
              "                          'as': 1,\n",
              "                          'captain': 1,\n",
              "                          'combination': 1,\n",
              "                          'etched': 1,\n",
              "                          'go': 1,\n",
              "                          'great': 1,\n",
              "                          'in': 1,\n",
              "                          'knocks': 1,\n",
              "                          'memory': 1,\n",
              "                          'named': 1,\n",
              "                          'of': 1,\n",
              "                          'player': 1,\n",
              "                          'venues': 1,\n",
              "                          'were': 1,\n",
              "                          'won': 1}),\n",
              "             'PER': defaultdict(int, {'Bailey': 1, 'Starc': 3, 'Warner': 2}),\n",
              "             'TIM': defaultdict(int, {'2003': 2, '2007': 2, '2015': 3})})"
            ]
          },
          "metadata": {
            "tags": []
          },
          "execution_count": 15
        }
      ]
    },
    {
      "cell_type": "markdown",
      "metadata": {
        "id": "nR5Jbakp3IIA"
      },
      "source": [
        "# **Create HiddenMarkovModel**"
      ]
    },
    {
      "cell_type": "markdown",
      "metadata": {
        "id": "6ftNvXRN4REC"
      },
      "source": [
        "**Emmision Probabilities**"
      ]
    },
    {
      "cell_type": "code",
      "metadata": {
        "colab": {
          "base_uri": "https://localhost:8080/"
        },
        "id": "8bvqpmv14UdW",
        "outputId": "d9a8e126-a8e5-4a58-c27c-1834dc9f31ac"
      },
      "source": [
        "to_states = []\n",
        "for POS, words in POS_words_count.items():\n",
        "    total = float(sum(words.values()))\n",
        "    print('------------------------------------------------------------')\n",
        "    print(POS,'total',total)\n",
        "    emission_prob = {word: count/total for word, count in words.items()}\n",
        "    print('Emmission Probability',distribution)\n",
        "    POS_emissions = DiscreteDistribution(emission_prob)\n",
        "    #print('POS_emissions',POS_emissions)\n",
        "    POS_state = State(POS_emissions, name=POS)\n",
        "    #print('POS_state',POS_state)\n",
        "    to_states.append(POS_state)"
      ],
      "execution_count": 35,
      "outputs": [
        {
          "output_type": "stream",
          "text": [
            "------------------------------------------------------------\n",
            "PER total 6.0\n",
            "Emmission Probability {'2015': 0.42857142857142855, '2003': 0.2857142857142857, '2007': 0.2857142857142857}\n",
            "------------------------------------------------------------\n",
            "O total 18.0\n",
            "Emmission Probability {'2015': 0.42857142857142855, '2003': 0.2857142857142857, '2007': 0.2857142857142857}\n",
            "------------------------------------------------------------\n",
            "GEO total 7.0\n",
            "Emmission Probability {'2015': 0.42857142857142855, '2003': 0.2857142857142857, '2007': 0.2857142857142857}\n",
            "------------------------------------------------------------\n",
            "TIM total 7.0\n",
            "Emmission Probability {'2015': 0.42857142857142855, '2003': 0.2857142857142857, '2007': 0.2857142857142857}\n"
          ],
          "name": "stdout"
        }
      ]
    },
    {
      "cell_type": "code",
      "metadata": {
        "colab": {
          "base_uri": "https://localhost:8080/"
        },
        "id": "eYk1eWC94ora",
        "outputId": "ac91dbc5-a7c2-480b-e640-31f51a400b8d"
      },
      "source": [
        "print(len(to_states))\n",
        "print([state.name for state in to_states])\n",
        "print(type(to_states[0]))\n",
        "print('\\n\\n')\n",
        "print(to_states[0])"
      ],
      "execution_count": 45,
      "outputs": [
        {
          "output_type": "stream",
          "text": [
            "4\n",
            "['PER', 'O', 'GEO', 'TIM']\n",
            "<class 'pomegranate.base.State'>\n",
            "\n",
            "\n",
            "\n",
            "{\n",
            "    \"class\" : \"State\",\n",
            "    \"distribution\" : {\n",
            "        \"class\" : \"Distribution\",\n",
            "        \"dtype\" : \"str\",\n",
            "        \"name\" : \"DiscreteDistribution\",\n",
            "        \"parameters\" : [\n",
            "            {\n",
            "                \"Bailey\" : 0.16666666666666666,\n",
            "                \"Starc\" : 0.5,\n",
            "                \"Warner\" : 0.3333333333333333\n",
            "            }\n",
            "        ],\n",
            "        \"frozen\" : false\n",
            "    },\n",
            "    \"name\" : \"PER\",\n",
            "    \"weight\" : 1.0\n",
            "}\n"
          ],
          "name": "stdout"
        }
      ]
    },
    {
      "cell_type": "markdown",
      "metadata": {
        "id": "IADb7rZk4taE"
      },
      "source": [
        "**Calculate Start Probability**"
      ]
    },
    {
      "cell_type": "code",
      "metadata": {
        "colab": {
          "base_uri": "https://localhost:8080/"
        },
        "id": "IkC8fhRS4whO",
        "outputId": "837e7577-6150-4e35-eb8f-87d5c9a4611d"
      },
      "source": [
        "start_prob={}\n",
        "for ps in my_ner_list:\n",
        "    start_prob[ps]=start_POS_count[ps]/POS_count_ug[ps]\n",
        "\n",
        "print(start_prob)"
      ],
      "execution_count": 37,
      "outputs": [
        {
          "output_type": "stream",
          "text": [
            "{'PER': 0.5, 'O': 0.0, 'GEO': 0.2857142857142857, 'TIM': 0.14285714285714285}\n"
          ],
          "name": "stdout"
        }
      ]
    },
    {
      "cell_type": "markdown",
      "metadata": {
        "id": "rqexOiv_Hf7o"
      },
      "source": [
        "**Calculate End Probability**"
      ]
    },
    {
      "cell_type": "code",
      "metadata": {
        "colab": {
          "base_uri": "https://localhost:8080/"
        },
        "id": "XB06mKDrHilC",
        "outputId": "8f5465dd-bd7f-4c1f-e9ef-bd3df215e6d5"
      },
      "source": [
        "end_prob={}\n",
        "\n",
        "for ps in my_ner_list:\n",
        "    end_prob[ps]=end_POS_count[ps]/POS_count_ug[ps]\n",
        "\n",
        "print(end_prob)"
      ],
      "execution_count": 38,
      "outputs": [
        {
          "output_type": "stream",
          "text": [
            "{'PER': 0.0, 'O': 0.3333333333333333, 'GEO': 0.0, 'TIM': 0.0}\n"
          ],
          "name": "stdout"
        }
      ]
    },
    {
      "cell_type": "markdown",
      "metadata": {
        "id": "_23Mh6vMXIyR"
      },
      "source": [
        "**Transition Probability**"
      ]
    },
    {
      "cell_type": "code",
      "metadata": {
        "colab": {
          "base_uri": "https://localhost:8080/"
        },
        "id": "CviB5UmtXSxe",
        "outputId": "01efe71b-2360-473a-f72a-05dae9f7dbda"
      },
      "source": [
        "# Get the transition probability \n",
        "transition_prob_POS_word={}\n",
        "for key in POS_count_bg.keys():\n",
        "    transition_prob_POS_word[key]=POS_count_bg.get(key)/POS_count_ug[key[0]]\n",
        "\n",
        "transition_prob_POS_word"
      ],
      "execution_count": 46,
      "outputs": [
        {
          "output_type": "execute_result",
          "data": {
            "text/plain": [
              "{('GEO', 'O'): 0.5714285714285714,\n",
              " ('GEO', 'PER'): 0.14285714285714285,\n",
              " ('GEO', 'TIM'): 0.2857142857142857,\n",
              " ('O', 'GEO'): 0.16666666666666666,\n",
              " ('O', 'O'): 0.4444444444444444,\n",
              " ('O', 'PER'): 0.1111111111111111,\n",
              " ('O', 'TIM'): 0.16666666666666666,\n",
              " ('PER', 'GEO'): 0.16666666666666666,\n",
              " ('PER', 'O'): 0.5,\n",
              " ('PER', 'PER'): 0.3333333333333333,\n",
              " ('TIM', 'GEO'): 0.42857142857142855,\n",
              " ('TIM', 'O'): 0.2857142857142857,\n",
              " ('TIM', 'TIM'): 0.2857142857142857}"
            ]
          },
          "metadata": {
            "tags": []
          },
          "execution_count": 46
        }
      ]
    },
    {
      "cell_type": "code",
      "metadata": {
        "colab": {
          "base_uri": "https://localhost:8080/"
        },
        "id": "bo0_TZ4EXinr",
        "outputId": "7887f64c-ae77-4692-91b1-4e0c56a4a6aa"
      },
      "source": [
        "# Add Missing Probability\n",
        "transition_prob_POS_word[('GEO', 'GEO')]=0\n",
        "transition_prob_POS_word[('PER', 'TIM')]=0\n",
        "transition_prob_POS_word[('TIM', 'PER')]=0\n",
        "\n",
        "transition_prob_POS_word"
      ],
      "execution_count": 47,
      "outputs": [
        {
          "output_type": "execute_result",
          "data": {
            "text/plain": [
              "{('GEO', 'GEO'): 0,\n",
              " ('GEO', 'O'): 0.5714285714285714,\n",
              " ('GEO', 'PER'): 0.14285714285714285,\n",
              " ('GEO', 'TIM'): 0.2857142857142857,\n",
              " ('O', 'GEO'): 0.16666666666666666,\n",
              " ('O', 'O'): 0.4444444444444444,\n",
              " ('O', 'PER'): 0.1111111111111111,\n",
              " ('O', 'TIM'): 0.16666666666666666,\n",
              " ('PER', 'GEO'): 0.16666666666666666,\n",
              " ('PER', 'O'): 0.5,\n",
              " ('PER', 'PER'): 0.3333333333333333,\n",
              " ('PER', 'TIM'): 0,\n",
              " ('TIM', 'GEO'): 0.42857142857142855,\n",
              " ('TIM', 'O'): 0.2857142857142857,\n",
              " ('TIM', 'PER'): 0,\n",
              " ('TIM', 'TIM'): 0.2857142857142857}"
            ]
          },
          "metadata": {
            "tags": []
          },
          "execution_count": 47
        }
      ]
    },
    {
      "cell_type": "code",
      "metadata": {
        "id": "bJ0nzPi0JyZQ"
      },
      "source": [
        "from pomegranate import State, HiddenMarkovModel, DiscreteDistribution\n",
        "hmm_model = HiddenMarkovModel(name=\"base-hmm-tagger\")"
      ],
      "execution_count": 48,
      "outputs": []
    },
    {
      "cell_type": "code",
      "metadata": {
        "id": "08XDuSVgYOSa"
      },
      "source": [
        "# Start Start and End Transitions\n",
        "\n",
        "for POS_state in to_states :\n",
        "    hmm_model.add_transition(hmm_model.start,POS_state,start_prob[POS_state.name])\n",
        "    hmm_model.add_transition(POS_state,hmm_model.end,end_prob[POS_state.name])"
      ],
      "execution_count": 49,
      "outputs": []
    },
    {
      "cell_type": "code",
      "metadata": {
        "id": "pR_tUPGYYTAA"
      },
      "source": [
        "# Add transition probabilities to all POS\n",
        "\n",
        "for POS_state in to_states :\n",
        "    for next_POS_state in to_states :\n",
        "        hmm_model.add_transition(POS_state,next_POS_state,transition_prob_POS_word[(POS_state.name,next_POS_state.name)])"
      ],
      "execution_count": 50,
      "outputs": []
    },
    {
      "cell_type": "code",
      "metadata": {
        "id": "v2iIDekBYr5k"
      },
      "source": [
        "hmm_model.bake()"
      ],
      "execution_count": 51,
      "outputs": []
    },
    {
      "cell_type": "markdown",
      "metadata": {
        "id": "SbIFD69MYwm5"
      },
      "source": [
        "# **Decode POS for new sentence**"
      ]
    },
    {
      "cell_type": "code",
      "metadata": {
        "id": "96b2EWKTY6ro"
      },
      "source": [
        "# Decode POS for a new sentence\n",
        "def POS_decoding(sentence, model):    \n",
        "    _, state_path = model.viterbi(sentence)\n",
        "    return [state[1].name for state in state_path[1:-1]]"
      ],
      "execution_count": 54,
      "outputs": []
    },
    {
      "cell_type": "code",
      "metadata": {
        "colab": {
          "base_uri": "https://localhost:8080/"
        },
        "id": "p8_hS_oIZDUN",
        "outputId": "35291879-2a2d-4fbb-d8f5-18233d744b1b"
      },
      "source": [
        "print('Starc named 2015 Australia player.”')\n",
        "POS_tags = POS_decoding(('Starc','named','2015','Australia','player'), hmm_model)\n",
        "print(POS_tags)"
      ],
      "execution_count": 59,
      "outputs": [
        {
          "output_type": "stream",
          "text": [
            "Starc named 2015 Australia player.”\n",
            "['PER', 'O', 'TIM', 'GEO', 'O']\n"
          ],
          "name": "stdout"
        }
      ]
    }
  ]
}